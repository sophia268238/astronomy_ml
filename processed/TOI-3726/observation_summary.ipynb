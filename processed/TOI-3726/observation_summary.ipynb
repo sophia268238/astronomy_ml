{
 "cells": [
  {
   "cell_type": "markdown",
   "id": "13e1e3b2-5b5d-4456-ad07-3b6e3fa19aa8",
   "metadata": {},
   "source": [
    "## Light Curves and Fits"
   ]
  },
  {
   "cell_type": "markdown",
   "id": "db47194f-6d05-4045-8a8a-888d9c6172d6",
   "metadata": {},
   "source": [
    "[Swarthmore Planet Finder Prediction on TOI-3726](https://astro.swarthmore.edu/transits/print_transits.cgi?single_object=2&ra=&dec=&epoch=&period=&duration=&depth=&target=&observatory_string=32.416667%3B-110.731667%3BAmerica%2FPhoenix%3BMount+Lemmon&use_utc=1&observatory_latitude=32.416667&observatory_longitude=-110.731667&timezone=America%2FPhoenix&start_date=11-21-2024&days_to_print=90&days_in_past=90&minimum_start_elevation=30&and_vs_or=and&minimum_end_elevation=30&minimum_ha=-12&maximum_ha=12&baseline_hrs=1.4&minimum_depth=6&maximum_V_mag=&target_string=1226950&print_html=1&twilight=-12&max_airmass=2.4&fovWidth=&fovHeight=&fovPA=)"
   ]
  },
  {
   "cell_type": "code",
   "execution_count": 1,
   "id": "492db474-5e58-4e55-912c-01a606fb4c7b",
   "metadata": {},
   "outputs": [
    {
     "data": {
      "text/html": [
       "\n",
       "        <iframe\n",
       "            width=\"800\"\n",
       "            height=\"450\"\n",
       "            src=\"./20240926/TOI-3726.20240926.projected_egress.pdf\"\n",
       "            frameborder=\"0\"\n",
       "            allowfullscreen\n",
       "            \n",
       "        ></iframe>\n",
       "        "
      ],
      "text/plain": [
       "<IPython.lib.display.IFrame at 0x7fb5e05cc4f0>"
      ]
     },
     "execution_count": 1,
     "metadata": {},
     "output_type": "execute_result"
    }
   ],
   "source": [
    "from IPython.display import IFrame\n",
    "\n",
    "# Replace 'your_file.pdf' with the path to your PDF file\n",
    "IFrame(\"./20240926/TOI-3726.20240926.projected_egress.pdf\", width=800, height=450)"
   ]
  },
  {
   "cell_type": "code",
   "execution_count": 2,
   "id": "63a9cb1b-96c8-4b4f-a36c-2e46acbb734b",
   "metadata": {},
   "outputs": [
    {
     "data": {
      "text/html": [
       "\n",
       "        <iframe\n",
       "            width=\"800\"\n",
       "            height=\"450\"\n",
       "            src=\"./20241025/TOI-3726.20241025.aij.pdf\"\n",
       "            frameborder=\"0\"\n",
       "            allowfullscreen\n",
       "            \n",
       "        ></iframe>\n",
       "        "
      ],
      "text/plain": [
       "<IPython.lib.display.IFrame at 0x7fb5e05ccf70>"
      ]
     },
     "execution_count": 2,
     "metadata": {},
     "output_type": "execute_result"
    }
   ],
   "source": [
    "IFrame(\"./20241025/TOI-3726.20241025.aij.pdf\", width=800, height=450)"
   ]
  },
  {
   "cell_type": "markdown",
   "id": "58d838bc-e9f2-4f14-8a6c-4461abd7af8e",
   "metadata": {},
   "source": [
    "## Analysis"
   ]
  },
  {
   "cell_type": "markdown",
   "id": "581562df-1540-4a25-bbf3-e63e71c78fcc",
   "metadata": {},
   "source": [
    "## [Transit Timing Variation (TTV)](https://en.wikipedia.org/wiki/Transit-timing_variation)"
   ]
  },
  {
   "cell_type": "markdown",
   "id": "c8d36d7b-0469-42bb-8613-cd54d9f2e70e",
   "metadata": {},
   "source": [
    "### Period Analysis"
   ]
  },
  {
   "cell_type": "markdown",
   "id": "169fa30b-ee44-4a80-9c50-8d79fc4c1511",
   "metadata": {},
   "source": [
    "1. Period Based on the Observations on 09/26/2024 and 10/25/2024.\n",
    "    - The below calculation indicates the period of the transits remains as reported by ExoMast."
   ]
  },
  {
   "cell_type": "code",
   "execution_count": 3,
   "id": "1ca4243a-5722-4fce-b712-a6ecc4dba304",
   "metadata": {},
   "outputs": [
    {
     "name": "stdout",
     "output_type": "stream",
     "text": [
      "The number of periods between the two transit centers is: 6.000022286014968\n"
     ]
    }
   ],
   "source": [
    "# Tc(transit center timing)\n",
    "Tc_20241025 = 2460609.941884418\n",
    "Tc_20240926 = 2460580.899117944\n",
    "period_exo_mast = 4.8404431 \n",
    "\n",
    "periods = (Tc_20241025 - Tc_20240926) / period_exo_mast\n",
    "print(f\"The number of periods between the two transit centers is: {periods}\")"
   ]
  },
  {
   "cell_type": "markdown",
   "id": "a75fda5d-962a-45f3-ac08-323d6158eef5",
   "metadata": {},
   "source": [
    "2. The Amount of T_c (Transit Center) Shift Compared with Swathmore Report"
   ]
  },
  {
   "cell_type": "code",
   "execution_count": 4,
   "id": "db0be6af-51a1-46b9-a311-6b7652e1ddec",
   "metadata": {},
   "outputs": [
    {
     "name": "stdout",
     "output_type": "stream",
     "text": [
      "09-26-2024 shift: 0.040117944000000016\n",
      "10-25-2024 shift: 0.040284418000000044\n"
     ]
    }
   ],
   "source": [
    "# For 09/26/2024\n",
    "shift_09262024 = 0.899117944 - 0.8590\n",
    "print(f\"09-26-2024 shift: {shift_09262024}\")\n",
    "\n",
    "# For 10/25/2024\n",
    "shift_10252024 = 0.941884418 - 0.9016\n",
    "print(f\"10-25-2024 shift: {shift_10252024}\")"
   ]
  },
  {
   "cell_type": "markdown",
   "id": "f9d4a8e9-fdeb-4530-b8e5-06717893985f",
   "metadata": {},
   "source": [
    "3. Compare TESS Sector 59 and 73 Light Curves\n",
    "- For TOI-3726, TESS collected 2 sectors of data: 59 and 73. Somehow, there are two sets of data for sector 59.\n",
    "- With the base BJD of 2457000, sector 59 is between (2910 - 2937 BJD) and sector 73 is between (3285 - 3313 BJD)\n",
    "- The current ExoMast report was based on the data of sector 73(see the[downloaded report](./tess2023341070027-s0073-s0073-0000000122695048-00835_dvm.pdf)), even though the data of sector 59 is in no less quality.\n",
    "- The flux of both sectors are individually flattened and folded with the reported transit period (4.8404431 BJD). It seems to indicate the transit center has shifted to a later time in sector 73 compared with sector 59. The amount of shift is close to the amount between the current ground follow-up observations and the sector 73. See the below comparison.\n",
    "- However, I don't know how to fit the light curves and the shift is a rough estimate.\n",
    "![screenshot](./TOI-3726_sector_59_73_compare.png)."
   ]
  },
  {
   "cell_type": "markdown",
   "id": "fa9e4588-8bf0-40be-9ef6-3673b4bb0df0",
   "metadata": {},
   "source": [
    "## Compare the TOIs in TESS Sector 59 and 73 to Identify TTVs \n",
    "We also observed a significant shift in the TOI-3726 trasit timing between the ground follow-up observations (2024-09-25, 2024-10-25) and the TESS sector 73. We also discovered a similar significant shift of the transit timing in TOI-3726 between sector 59 and 73 in the earlier study. We also observed a similar significant shift in the trasit timeing between 2024-09-25 and the TESS sector 73.\n",
    "\n",
    "There are a few theories about the nature of the shift:\n",
    "1. A genuine TTV caused by other nearby planetary objects in the same star star system.\n",
    "2. A TESS clock drift between different sectors.\n",
    "3. An accumulation of the inaccuracy in the calculated period.\n",
    "\n",
    "We can explore the the theory #2 with the current TESS data with the following procedure:\n",
    "1. A few TOIs are selected randomly from [ExoFOP-TESS](https://exofop.ipac.caltech.edu/tess/view_toi.php), so that these candidates all have been observed in Sector 59 and 73.\n",
    "2. The light curves are constructed using the python \"lightkurve\" libary, then folded and binned using their ExoMast reported transit-periods and epoch-times.\n",
    "3. The light curves from sector 59 and 73 are graphed, so that the shift of the folded transits can be compared.\n",
    "\n",
    "#### Theory #2: TESS Clock Drift\n",
    "- Hypotheses\n",
    "    - If this theory were true, we should observe simiar shifts in all the candidate TOIs. Such shifts should be in the same direction and by the same shift amount.\n",
    "\n",
    "    - Otherewise, we should observe shifts of different directions and amounts. Or no significant shifts at all, as TTVs have been observed rarely.\n",
    " \n",
    "- Findings\n",
    "    - [Compare the TOIs in TESS Sector 59 and 73 to Identify TTVs](../../notebooks/TESS_Sector_59_and_73_Comparison.ipynb)\n",
    "    - As shown in the above notebook, we discovered that significant transit-timing shifts are present in almost all candidate TOIs! Such shifts are of different directions and amounts. This discovery indicates the following two conclusions:\n",
    "        - There is no TESS clock drift between sector 59 and sector 73.\n",
    "        - TTVs are not as rare as they have been believed so."
   ]
  },
  {
   "cell_type": "markdown",
   "id": "84bb1f4e-f13c-4471-8de2-2b16322660a8",
   "metadata": {},
   "source": [
    "#### Theory #3 Calculation Error Accumulation\n",
    "- [LATTE Report](./LATTE_output/DV_report_122695048.pdf)\n",
    "    - LATTE command `python -m LATTE --tic \"122695048\" --north --sector 59,73`\n",
    "- TESS Reports\n",
    "    - [Sector 59](./tess_dvm/tess2022330181042-s0059-s0059-0000000122695048-00688_dvm.pdf)\n",
    "        - The DVM report for Sector 59 does not appear in ExoMast website directly. I found it when running LATTE against the Sector 59 data. In the LATTE report(at the bottom of pag 1), there is a link pointing to the Sector 59 DVM report.\n",
    "    - [Sector 73](./test_dvm/tess2023341070027-s0073-s0073-0000000122695048-00835_dvm.pdf)\n",
    "    - Model Prediction\n",
    "      | Sector | Period (days)        | Epoch (BTJD)          |\n",
    "      |--------|----------------------|-----------------------|\n",
    "      | 59     | 4.84169 ± 0.00044    | 2912.8314 ± 0.0011    |\n",
    "      | 73     | 4.84044 ± 0.00041    | 3290.4324 ± 0.0010    |\n",
    "      | Diff % | 0.026%               |                       |\n",
    "- Error Estimation\n",
    "    - Based on the reported periods of the two sectors, the cumulative drifts caused by the the max error and the average error are 0.066 and 0.033 BJDs between Sector 59 and 73.\n",
    "    - The actual estimated drift over the time between Sector 59 and 73 is ~0.04 BJD.\n",
    "- Conclusion\n",
    "    - It appears the actual drift is within the reasonable interval of the period errors. Based on this comparison, we cannot rule out that the shift has been caused by the calculated period not being precise enough."
   ]
  },
  {
   "cell_type": "code",
   "execution_count": 128,
   "id": "26c204c3-73f8-4614-b779-487d082f6f0f",
   "metadata": {},
   "outputs": [
    {
     "name": "stdout",
     "output_type": "stream",
     "text": [
      "Estimated Max Cumulative Error over 378 BJDs: 0.066\n",
      "Estimated Average Cumulative Error over 378 BJDs: 0.033\n"
     ]
    }
   ],
   "source": [
    "# Cumulative Error Estimate:\n",
    "# According to sector 59 report:\n",
    "s59_begin_bjd = 2911\n",
    "s59_period = 4.84169\n",
    "s59_error = 0.00044\n",
    "\n",
    "# According to sector 73 report:\n",
    "s73_begin_bjd = 3289\n",
    "s73_period = 4.84044\n",
    "s73_error = 0.00041\n",
    "\n",
    "max_cee_bjd = (s59_error + s73_error) * (s73_begin_bjd - s59_begin_bjd) / ((s59_period + s73_period)/2)\n",
    "print(f\"Estimated Max Cumulative Error over {3289 - 2911} BJDs: {max_cee_bjd:.2}\")\n",
    "avg_cee_bjd = ((s59_error + s73_error)/2) * (s73_begin_bjd - s59_begin_bjd) / ((s59_period + s73_period)/2)\n",
    "print(f\"Estimated Average Cumulative Error over {3289 - 2911} BJDs: {avg_cee_bjd:.2}\")"
   ]
  },
  {
   "cell_type": "markdown",
   "id": "17989640-6ad7-48ba-96fb-86e7ab6003a2",
   "metadata": {},
   "source": [
    "### Explore TTV Possibility\n",
    "#### Estimate Semi-major Axis of the Hypothetical New Planet X\n",
    "    - Assuming planet-X is in the same inclination plane as TOI-3726.01, for X not to produce a transit, its semi-major axis a_X needs to satisfy:\n",
    "$$a_X \\ge \\frac{R*}{cos(\\angle inclination)}$$\n",
    "\n",
    "    - Given the two observations on 20240926 and 20241025, we have the below calculation."
   ]
  },
  {
   "cell_type": "code",
   "execution_count": 26,
   "id": "b9a75a64-f72b-4eab-9023-ab6d087eeaa3",
   "metadata": {},
   "outputs": [
    {
     "name": "stdout",
     "output_type": "stream",
     "text": [
      "Based on 20240926: Min Semi-major 6.339768504667461 R_SUN\n",
      "Based on 20241025: Min Semi-major 4.416247135061459 R_SUN\n",
      "Based on 20241227: Min Semi-major 3.5863678909677983 R_SUN\n"
     ]
    }
   ],
   "source": [
    "from math import cos, pi, sin, tan\n",
    "# Note the R* = 1.05 R_SUN is from https://exo.mast.stsci.edu/exomast_planet.html?planet=TOI-3726.01\n",
    "ground_observation = [\n",
    "    {\n",
    "        \"obs\": \"20240926\",\n",
    "        \"a/R*\": 2.854413994,\n",
    "        \"inclination_degree\":80.466677487,\n",
    "        \"R*\": 1.05,\n",
    "        \"color\": \"blue\",\n",
    "        \"Tc\": 2460580.899117944,\n",
    "        \"predicted\": {\n",
    "            \"offset\": 2460580,\n",
    "            \"ingress\": 0.8045,\n",
    "            \"Tc\": 0.8590,\n",
    "            \"egress\": 0.9135,\n",
    "        },\n",
    "    },\n",
    "    {\n",
    "        \"obs\": \"20241025\",\n",
    "        \"a/R*\": 2.719625175,\n",
    "        \"inclination_degree\": 76.245721043,\n",
    "        \"R*\": 1.05,\n",
    "        \"color\": \"green\",\n",
    "        \"Tc\": 2460609.941884418,\n",
    "        \"predicted\": {\n",
    "            \"offset\": 2460609,\n",
    "            \"ingress\": 0.8471,\n",
    "            \"Tc\": 0.9016,\n",
    "            \"egress\": 0.9561,\n",
    "        },\n",
    "    },\n",
    "    {\n",
    "        \"obs\": \"20241227\",\n",
    "        \"a/R*\": 2.496465454,\n",
    "        \"inclination_degree\": 72.975816460,\n",
    "        \"R*\": 1.05,\n",
    "        \"color\": \"green\",\n",
    "        \"Tc\": 2460672.878957585,\n",
    "        \"predicted\": {\n",
    "            \"offset\": 2460672,\n",
    "            \"ingress\": 0.7729,\n",
    "            \"Tc\": 0.8274,\n",
    "            \"egress\": 0.8819,\n",
    "        },\n",
    "    },\n",
    "]\n",
    "\n",
    "for entry in ground_observation:\n",
    "    inclination = pi * entry[\"inclination_degree\"] / 180\n",
    "    R_new_planet = entry[\"R*\"] / cos(inclination)\n",
    "    print(f\"Based on {entry['obs']}: Min Semi-major {R_new_planet} R_SUN\")"
   ]
  },
  {
   "cell_type": "code",
   "execution_count": 27,
   "id": "aad44b50-1d86-402e-9985-91e77b20ca5b",
   "metadata": {},
   "outputs": [],
   "source": [
    "# Use Kepler's 3rd Law to estimate the distance of the planet to the star\n",
    "\n",
    "a = math.pow((4.84 / 365), 2/3)"
   ]
  },
  {
   "cell_type": "markdown",
   "id": "6ab67f52-bbfa-4063-924e-3b10cfa41010",
   "metadata": {},
   "source": [
    "## 20241227 Observation Data Analysis\n",
    "At this point, we have done three observations on 20240926, 20241025 and 20241227. The data have been fit with AstroImageJ and the fitted Tc are compared with the predicted transit center of the Transit Finder of the Swarthmore College.\n",
    "- The shift in min is as below:\n",
    "\n",
    "| Date       | Shift (min)    |\n",
    "|------------|----------------|\n",
    "| 2024-09-26 | 57.77          |\n",
    "| 2024-10-25 | 58.01          |\n",
    "| 2024-12-27 | 74.24          |\n",
    "- The Tc shifts of 20240926 and 20241025 are quite close to each other. However, the shift on 20241227 was much more signifiant of about 16 min."
   ]
  },
  {
   "cell_type": "code",
   "execution_count": 29,
   "id": "7bc401ed-8eee-4906-a084-552b8d736b94",
   "metadata": {},
   "outputs": [
    {
     "data": {
      "text/html": [
       "\n",
       "        <iframe\n",
       "            width=\"800\"\n",
       "            height=\"450\"\n",
       "            src=\"./20241227/TOI-3726.20241227.aij.pdf\"\n",
       "            frameborder=\"0\"\n",
       "            allowfullscreen\n",
       "            \n",
       "        ></iframe>\n",
       "        "
      ],
      "text/plain": [
       "<IPython.lib.display.IFrame at 0x7fb5c86c4fa0>"
      ]
     },
     "execution_count": 29,
     "metadata": {},
     "output_type": "execute_result"
    }
   ],
   "source": [
    "IFrame(\"./20241227/TOI-3726.20241227.aij.pdf\", width=800, height=450)"
   ]
  },
  {
   "cell_type": "code",
   "execution_count": 45,
   "id": "aaacdd17-d5c9-4d87-a2d0-cb0e4611fa27",
   "metadata": {},
   "outputs": [
    {
     "name": "stdout",
     "output_type": "stream",
     "text": [
      "20240926: 57.77 min\n",
      "Predicted t14: 0.10899999999999999\n",
      "20241025: 58.01 min\n",
      "Predicted t14: 0.10899999999999999\n",
      "20241227: 74.24 min\n",
      "Predicted t14: 0.10899999999999999\n"
     ]
    }
   ],
   "source": [
    "for entry in ground_observation:\n",
    "    obs = entry[\"obs\"]\n",
    "    tc = entry[\"Tc\"]\n",
    "    predicted_tc = entry[\"predicted\"][\"offset\"] + entry[\"predicted\"][\"Tc\"]\n",
    "    diff = (tc - predicted_tc) * 24 * 60\n",
    "    print(f\"{obs}: {diff:.2f} min\")\n",
    "    print(f\"\"\"Predicted t14: {entry[\"predicted\"][\"egress\"] - entry[\"predicted\"][\"ingress\"]}\"\"\")"
   ]
  }
 ],
 "metadata": {
  "kernelspec": {
   "display_name": "Python 3 (ipykernel)",
   "language": "python",
   "name": "python3"
  },
  "language_info": {
   "codemirror_mode": {
    "name": "ipython",
    "version": 3
   },
   "file_extension": ".py",
   "mimetype": "text/x-python",
   "name": "python",
   "nbconvert_exporter": "python",
   "pygments_lexer": "ipython3",
   "version": "3.9.0"
  }
 },
 "nbformat": 4,
 "nbformat_minor": 5
}
