{
 "cells": [
  {
   "cell_type": "markdown",
   "id": "13e1e3b2-5b5d-4456-ad07-3b6e3fa19aa8",
   "metadata": {},
   "source": [
    "## Light Curves and Fits"
   ]
  },
  {
   "cell_type": "code",
   "execution_count": 15,
   "id": "492db474-5e58-4e55-912c-01a606fb4c7b",
   "metadata": {},
   "outputs": [
    {
     "data": {
      "text/html": [
       "\n",
       "        <iframe\n",
       "            width=\"800\"\n",
       "            height=\"450\"\n",
       "            src=\"./20240926/TOI-3726.20240926.projected_egress.pdf\"\n",
       "            frameborder=\"0\"\n",
       "            allowfullscreen\n",
       "            \n",
       "        ></iframe>\n",
       "        "
      ],
      "text/plain": [
       "<IPython.lib.display.IFrame at 0x1055541f0>"
      ]
     },
     "execution_count": 15,
     "metadata": {},
     "output_type": "execute_result"
    }
   ],
   "source": [
    "from IPython.display import IFrame\n",
    "\n",
    "# Replace 'your_file.pdf' with the path to your PDF file\n",
    "IFrame(\"./20240926/TOI-3726.20240926.projected_egress.pdf\", width=800, height=450)"
   ]
  },
  {
   "cell_type": "code",
   "execution_count": 14,
   "id": "63a9cb1b-96c8-4b4f-a36c-2e46acbb734b",
   "metadata": {},
   "outputs": [
    {
     "data": {
      "text/html": [
       "\n",
       "        <iframe\n",
       "            width=\"800\"\n",
       "            height=\"450\"\n",
       "            src=\"./20241025/TOI-3726.20241025.aij.pdf\"\n",
       "            frameborder=\"0\"\n",
       "            allowfullscreen\n",
       "            \n",
       "        ></iframe>\n",
       "        "
      ],
      "text/plain": [
       "<IPython.lib.display.IFrame at 0x10527e8b0>"
      ]
     },
     "execution_count": 14,
     "metadata": {},
     "output_type": "execute_result"
    }
   ],
   "source": [
    "IFrame(\"./20241025/TOI-3726.20241025.aij.pdf\", width=800, height=450)"
   ]
  },
  {
   "cell_type": "markdown",
   "id": "58d838bc-e9f2-4f14-8a6c-4461abd7af8e",
   "metadata": {},
   "source": [
    "## Analysis"
   ]
  },
  {
   "cell_type": "markdown",
   "id": "c8d36d7b-0469-42bb-8613-cd54d9f2e70e",
   "metadata": {},
   "source": [
    "### Period\n",
    "The below calculation seems to indicate the period of the transits remains "
   ]
  },
  {
   "cell_type": "code",
   "execution_count": 20,
   "id": "1ca4243a-5722-4fce-b712-a6ecc4dba304",
   "metadata": {},
   "outputs": [
    {
     "name": "stdout",
     "output_type": "stream",
     "text": [
      "The number of periods between the two transit center is: 5.999528897915687\n"
     ]
    }
   ],
   "source": [
    "# Tc(transit center timing)\n",
    "Tc_20241025 = 2460609.937302756\n",
    "\n",
    "Tc_20240926 = 2460580.896924499\n",
    "period_exo_mast = 4.8404431 \n",
    "\n",
    "periods = (Tc_20241025 - Tc_20240926) / period_exo_mast\n",
    "print(f\"The number of periods between the two transit center is: {periods}\")"
   ]
  }
 ],
 "metadata": {
  "kernelspec": {
   "display_name": "Python 3 (ipykernel)",
   "language": "python",
   "name": "python3"
  },
  "language_info": {
   "codemirror_mode": {
    "name": "ipython",
    "version": 3
   },
   "file_extension": ".py",
   "mimetype": "text/x-python",
   "name": "python",
   "nbconvert_exporter": "python",
   "pygments_lexer": "ipython3",
   "version": "3.9.6"
  }
 },
 "nbformat": 4,
 "nbformat_minor": 5
}
