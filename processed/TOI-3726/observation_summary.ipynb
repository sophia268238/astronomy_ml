{
 "cells": [
  {
   "cell_type": "markdown",
   "id": "13e1e3b2-5b5d-4456-ad07-3b6e3fa19aa8",
   "metadata": {},
   "source": [
    "## Light Curves and Fits"
   ]
  },
  {
   "cell_type": "markdown",
   "id": "db47194f-6d05-4045-8a8a-888d9c6172d6",
   "metadata": {},
   "source": [
    "[Swarthmore Planet Finder Prediction on TOI-3726](https://astro.swarthmore.edu/transits/print_transits.cgi?single_object=2&ra=&dec=&epoch=&period=&duration=&depth=&target=&observatory_string=32.416667%3B-110.731667%3BAmerica%2FPhoenix%3BMount+Lemmon&use_utc=1&observatory_latitude=32.416667&observatory_longitude=-110.731667&timezone=America%2FPhoenix&start_date=11-21-2024&days_to_print=90&days_in_past=90&minimum_start_elevation=30&and_vs_or=and&minimum_end_elevation=30&minimum_ha=-12&maximum_ha=12&baseline_hrs=1.4&minimum_depth=6&maximum_V_mag=&target_string=1226950&print_html=1&twilight=-12&max_airmass=2.4&fovWidth=&fovHeight=&fovPA=)"
   ]
  },
  {
   "cell_type": "code",
   "execution_count": 1,
   "id": "492db474-5e58-4e55-912c-01a606fb4c7b",
   "metadata": {},
   "outputs": [
    {
     "data": {
      "text/html": [
       "\n",
       "        <iframe\n",
       "            width=\"800\"\n",
       "            height=\"450\"\n",
       "            src=\"./20240926/TOI-3726.20240926.projected_egress.pdf\"\n",
       "            frameborder=\"0\"\n",
       "            allowfullscreen\n",
       "            \n",
       "        ></iframe>\n",
       "        "
      ],
      "text/plain": [
       "<IPython.lib.display.IFrame at 0x7ff628048640>"
      ]
     },
     "execution_count": 1,
     "metadata": {},
     "output_type": "execute_result"
    }
   ],
   "source": [
    "from IPython.display import IFrame\n",
    "import math\n",
    "\n",
    "# Replace 'your_file.pdf' with the path to your PDF file\n",
    "IFrame(\"./20240926/TOI-3726.20240926.projected_egress.pdf\", width=800, height=450)"
   ]
  },
  {
   "cell_type": "code",
   "execution_count": 2,
   "id": "63a9cb1b-96c8-4b4f-a36c-2e46acbb734b",
   "metadata": {},
   "outputs": [
    {
     "data": {
      "text/html": [
       "\n",
       "        <iframe\n",
       "            width=\"800\"\n",
       "            height=\"450\"\n",
       "            src=\"./20241025/TOI-3726.20241025.aij.pdf\"\n",
       "            frameborder=\"0\"\n",
       "            allowfullscreen\n",
       "            \n",
       "        ></iframe>\n",
       "        "
      ],
      "text/plain": [
       "<IPython.lib.display.IFrame at 0x7ff6280484c0>"
      ]
     },
     "execution_count": 2,
     "metadata": {},
     "output_type": "execute_result"
    }
   ],
   "source": [
    "IFrame(\"./20241025/TOI-3726.20241025.aij.pdf\", width=800, height=450)"
   ]
  },
  {
   "cell_type": "markdown",
   "id": "58d838bc-e9f2-4f14-8a6c-4461abd7af8e",
   "metadata": {},
   "source": [
    "## Analysis"
   ]
  },
  {
   "cell_type": "markdown",
   "id": "581562df-1540-4a25-bbf3-e63e71c78fcc",
   "metadata": {},
   "source": [
    "## [Transit Timing Variation (TTV)](https://en.wikipedia.org/wiki/Transit-timing_variation)"
   ]
  },
  {
   "cell_type": "markdown",
   "id": "c8d36d7b-0469-42bb-8613-cd54d9f2e70e",
   "metadata": {},
   "source": [
    "### Period Analysis"
   ]
  },
  {
   "cell_type": "markdown",
   "id": "169fa30b-ee44-4a80-9c50-8d79fc4c1511",
   "metadata": {},
   "source": [
    "1. Period Based on the Observations on 09/26/2024 and 10/25/2024.\n",
    "    - The below calculation indicates the period of the transits remains as reported by ExoMast."
   ]
  },
  {
   "cell_type": "code",
   "execution_count": 3,
   "id": "1ca4243a-5722-4fce-b712-a6ecc4dba304",
   "metadata": {},
   "outputs": [
    {
     "name": "stdout",
     "output_type": "stream",
     "text": [
      "The number of periods between the two transit centers is: 6.000022286014968\n"
     ]
    }
   ],
   "source": [
    "# Tc(transit center timing)\n",
    "Tc_20241025 = 2460609.941884418\n",
    "Tc_20240926 = 2460580.899117944\n",
    "period_exo_mast = 4.8404431 \n",
    "\n",
    "periods = (Tc_20241025 - Tc_20240926) / period_exo_mast\n",
    "print(f\"The number of periods between the two transit centers is: {periods}\")"
   ]
  },
  {
   "cell_type": "markdown",
   "id": "a75fda5d-962a-45f3-ac08-323d6158eef5",
   "metadata": {},
   "source": [
    "2. The Amount of T_c (Transit Center) Shift Compared with Swathmore Report"
   ]
  },
  {
   "cell_type": "code",
   "execution_count": 4,
   "id": "db0be6af-51a1-46b9-a311-6b7652e1ddec",
   "metadata": {},
   "outputs": [
    {
     "name": "stdout",
     "output_type": "stream",
     "text": [
      "09-26-2024 shift: 0.040117944000000016\n",
      "10-25-2024 shift: 0.040284418000000044\n"
     ]
    }
   ],
   "source": [
    "# For 09/26/2024\n",
    "shift_09262024 = 0.899117944 - 0.8590\n",
    "print(f\"09-26-2024 shift: {shift_09262024}\")\n",
    "\n",
    "# For 10/25/2024\n",
    "shift_10252024 = 0.941884418 - 0.9016\n",
    "print(f\"10-25-2024 shift: {shift_10252024}\")"
   ]
  },
  {
   "cell_type": "markdown",
   "id": "f9d4a8e9-fdeb-4530-b8e5-06717893985f",
   "metadata": {},
   "source": [
    "3. Compare TESS Sector 59 and 73 Light Curves\n",
    "- For TOI-3726, TESS collected 2 sectors of data: 59 and 73. Somehow, there are two sets of data for sector 59.\n",
    "- With the base BJD of 2457000, sector 59 is between (2910 - 2937 BJD) and sector 73 is between (3285 - 3313 BJD)\n",
    "- The current ExoMast report was based on the data of sector 73(see the[downloaded report](./tess2023341070027-s0073-s0073-0000000122695048-00835_dvm.pdf)), even though the data of sector 59 is in no less quality.\n",
    "- The flux of both sectors are individually flattened and folded with the reported transit period (4.8404431 BJD). It seems to indicate the transit center has shifted to a later time in sector 73 compared with sector 59. The amount of shift is close to the amount between the current ground follow-up observations and the sector 73. See the below comparison.\n",
    "- However, I don't know how to fit the light curves and the shift is a rough estimate.\n",
    "![screenshot](./TOI-3726_sector_59_73_compare.png)."
   ]
  },
  {
   "cell_type": "markdown",
   "id": "fa9e4588-8bf0-40be-9ef6-3673b4bb0df0",
   "metadata": {},
   "source": [
    "## Compare the TOIs in TESS Sector 59 and 73 to Identify TTVs \n",
    "We also observed a significant shift in the TOI-3726 trasit timing between the ground follow-up observations (2024-09-25, 2024-10-25) and the TESS sector 73. We also discovered a similar significant shift of the transit timing in TOI-3726 between sector 59 and 73 in the earlier study. We also observed a similar significant shift in the trasit timeing between 2024-09-25 and the TESS sector 73.\n",
    "\n",
    "There are a few theories about the nature of the shift:\n",
    "1. A genuine TTV caused by other nearby planetary objects in the same star star system.\n",
    "2. A TESS clock drift between different sectors.\n",
    "3. An accumulation of the inaccuracy in the calculated period.\n",
    "\n",
    "We can explore the the theory #2 with the current TESS data with the following procedure:\n",
    "1. A few TOIs are selected randomly from [ExoFOP-TESS](https://exofop.ipac.caltech.edu/tess/view_toi.php), so that these candidates all have been observed in Sector 59 and 73.\n",
    "2. The light curves are constructed using the python \"lightkurve\" libary, then folded and binned using their ExoMast reported transit-periods and epoch-times.\n",
    "3. The light curves from sector 59 and 73 are graphed, so that the shift of the folded transits can be compared.\n",
    "\n",
    "#### Theory #2: TESS Clock Drift\n",
    "- Hypotheses\n",
    "    - If this theory were true, we should observe simiar shifts in all the candidate TOIs. Such shifts should be in the same direction and by the same shift amount.\n",
    "\n",
    "    - Otherewise, we should observe shifts of different directions and amounts. Or no significant shifts at all, as TTVs have been observed rarely.\n",
    " \n",
    "- Findings\n",
    "    - [Compare the TOIs in TESS Sector 59 and 73 to Identify TTVs](../../notebooks/TESS_Sector_59_and_73_Comparison.ipynb)\n",
    "    - As shown in the above notebook, we discovered that significant transit-timing shifts are present in almost all candidate TOIs! Such shifts are of different directions and amounts. This discovery indicates the following two conclusions:\n",
    "        - There is no TESS clock drift between sector 59 and sector 73.\n",
    "        - TTVs are not as rare as they have been believed so."
   ]
  },
  {
   "cell_type": "markdown",
   "id": "84bb1f4e-f13c-4471-8de2-2b16322660a8",
   "metadata": {},
   "source": [
    "#### Theory #3 Calculation Error Accumulation\n",
    "- [LATTE Report](./LATTE_output/DV_report_122695048.pdf)\n",
    "    - LATTE command `python -m LATTE --tic \"122695048\" --north --sector 59,73`\n",
    "- TESS Reports\n",
    "    - [Sector 59](./tess_dvm/tess2022330181042-s0059-s0059-0000000122695048-00688_dvm.pdf)\n",
    "        - The DVM report for Sector 59 does not appear in ExoMast website directly. I found it when running LATTE against the Sector 59 data. In the LATTE report(at the bottom of pag 1), there is a link pointing to the Sector 59 DVM report.\n",
    "    - [Sector 73](./test_dvm/tess2023341070027-s0073-s0073-0000000122695048-00835_dvm.pdf)\n",
    "    - Model Prediction\n",
    "      | Sector | Period (days)        | Epoch (BTJD)          |\n",
    "      |--------|----------------------|-----------------------|\n",
    "      | 59     | 4.84169 ± 0.00044    | 2912.8314 ± 0.0011    |\n",
    "      | 73     | 4.84044 ± 0.00041    | 3290.4324 ± 0.0010    |\n",
    "      | Diff % | 0.026%               |                       |\n",
    "- Error Estimation\n",
    "    - Based on the reported periods of the two sectors, the cumulative drifts caused by the the max error and the average error are 0.066 and 0.033 BJDs between Sector 59 and 73.\n",
    "    - The actual estimated drift over the time between Sector 59 and 73 is ~0.04 BJD.\n",
    "- Conclusion\n",
    "    - It appears the actual drift is within the reasonable interval of the period errors. Based on this comparison, we cannot rule out that the shift has been caused by the calculated period not being precise enough."
   ]
  },
  {
   "cell_type": "code",
   "execution_count": 5,
   "id": "26c204c3-73f8-4614-b779-487d082f6f0f",
   "metadata": {},
   "outputs": [
    {
     "name": "stdout",
     "output_type": "stream",
     "text": [
      "Estimated Max Cumulative Error over 378 BJDs: 0.066\n",
      "Estimated Average Cumulative Error over 378 BJDs: 0.033\n"
     ]
    }
   ],
   "source": [
    "# Cumulative Error Estimate:\n",
    "# According to sector 59 report:\n",
    "s59_begin_bjd = 2911\n",
    "s59_period = 4.84169\n",
    "s59_error = 0.00044\n",
    "\n",
    "# According to sector 73 report:\n",
    "s73_begin_bjd = 3289\n",
    "s73_period = 4.84044\n",
    "s73_error = 0.00041\n",
    "\n",
    "max_cee_bjd = (s59_error + s73_error) * (s73_begin_bjd - s59_begin_bjd) / ((s59_period + s73_period)/2)\n",
    "print(f\"Estimated Max Cumulative Error over {3289 - 2911} BJDs: {max_cee_bjd:.2}\")\n",
    "avg_cee_bjd = ((s59_error + s73_error)/2) * (s73_begin_bjd - s59_begin_bjd) / ((s59_period + s73_period)/2)\n",
    "print(f\"Estimated Average Cumulative Error over {3289 - 2911} BJDs: {avg_cee_bjd:.2}\")"
   ]
  },
  {
   "cell_type": "markdown",
   "id": "17989640-6ad7-48ba-96fb-86e7ab6003a2",
   "metadata": {},
   "source": [
    "### Explore TTV Possibility\n",
    "#### Estimate Semi-major Axis of the Hypothetical New Planet X\n",
    "    - Assuming planet-X is in the same inclination plane as TOI-3726.01, for X not to produce a transit, its semi-major axis a_X needs to satisfy:\n",
    "$$a_X \\ge \\frac{R*}{cos(\\angle inclination)}$$\n",
    "\n",
    "    - Given the two observations on 20240926 and 20241025, we have the below calculation."
   ]
  },
  {
   "cell_type": "code",
   "execution_count": 6,
   "id": "b9a75a64-f72b-4eab-9023-ab6d087eeaa3",
   "metadata": {},
   "outputs": [
    {
     "name": "stdout",
     "output_type": "stream",
     "text": [
      "Based on 20240926: Min Semi-major 6.339768504667461 R_SUN\n",
      "Based on 20241025: Min Semi-major 4.416247135061459 R_SUN\n",
      "Based on 20241227: Min Semi-major 3.5863678909677983 R_SUN\n"
     ]
    }
   ],
   "source": [
    "from math import cos, pi, sin, tan\n",
    "# Note the R* = 1.05 R_SUN is from https://exo.mast.stsci.edu/exomast_planet.html?planet=TOI-3726.01\n",
    "ground_observation = [\n",
    "    {\n",
    "        \"obs\": \"20240926\",\n",
    "        \"a/R*\": 2.854413994,\n",
    "        \"inclination_degree\":80.466677487,\n",
    "        \"R*\": 1.05,\n",
    "        \"color\": \"blue\",\n",
    "        \"Tc\": 2460580.899117944,\n",
    "        \"predicted\": {\n",
    "            \"offset\": 2460580,\n",
    "            \"ingress\": 0.8045,\n",
    "            \"Tc\": 0.8590,\n",
    "            \"egress\": 0.9135,\n",
    "        },\n",
    "    },\n",
    "    {\n",
    "        \"obs\": \"20241025\",\n",
    "        \"a/R*\": 2.719625175,\n",
    "        \"inclination_degree\": 76.245721043,\n",
    "        \"R*\": 1.05,\n",
    "        \"color\": \"green\",\n",
    "        \"Tc\": 2460609.941884418,\n",
    "        \"predicted\": {\n",
    "            \"offset\": 2460609,\n",
    "            \"ingress\": 0.8471,\n",
    "            \"Tc\": 0.9016,\n",
    "            \"egress\": 0.9561,\n",
    "        },\n",
    "    },\n",
    "    {\n",
    "        \"obs\": \"20241227\",\n",
    "        \"a/R*\": 2.496465454,\n",
    "        \"inclination_degree\": 72.975816460,\n",
    "        \"R*\": 1.05,\n",
    "        \"color\": \"green\",\n",
    "        \"Tc\": 2460672.878957585,\n",
    "        \"predicted\": {\n",
    "            \"offset\": 2460672,\n",
    "            \"ingress\": 0.7729,\n",
    "            \"Tc\": 0.8274,\n",
    "            \"egress\": 0.8819,\n",
    "        },\n",
    "    },\n",
    "]\n",
    "\n",
    "for entry in ground_observation:\n",
    "    inclination = pi * entry[\"inclination_degree\"] / 180\n",
    "    R_new_planet = entry[\"R*\"] / cos(inclination)\n",
    "    print(f\"Based on {entry['obs']}: Min Semi-major {R_new_planet} R_SUN\")"
   ]
  },
  {
   "cell_type": "code",
   "execution_count": 7,
   "id": "aad44b50-1d86-402e-9985-91e77b20ca5b",
   "metadata": {},
   "outputs": [
    {
     "data": {
      "text/plain": [
       "0.05602325414211839"
      ]
     },
     "execution_count": 7,
     "metadata": {},
     "output_type": "execute_result"
    }
   ],
   "source": [
    "# Use Kepler's 3rd Law to estimate the distance of the planet to the star\n",
    "\n",
    "a = math.pow((4.84 / 365), 2/3)\n",
    "a"
   ]
  },
  {
   "cell_type": "markdown",
   "id": "6ab67f52-bbfa-4063-924e-3b10cfa41010",
   "metadata": {},
   "source": [
    "## 20241227 Observation Data Analysis\n",
    "At this point, we have done three observations on 20240926, 20241025 and 20241227. The data have been fit with AstroImageJ and the fitted Tc are compared with the predicted transit center of the Transit Finder of the Swarthmore College.\n",
    "- The shift in min is as below:\n",
    "\n",
    "| Date       | Shift (min)    |\n",
    "|------------|----------------|\n",
    "| 2024-09-26 | 57.77          |\n",
    "| 2024-10-25 | 58.01          |\n",
    "| 2024-12-27 | 74.24          |\n",
    "- The Tc shifts of 20240926 and 20241025 are quite close to each other. However, the shift on 20241227 was much more signifiant of about 16 min."
   ]
  },
  {
   "cell_type": "code",
   "execution_count": 8,
   "id": "7bc401ed-8eee-4906-a084-552b8d736b94",
   "metadata": {},
   "outputs": [
    {
     "data": {
      "text/html": [
       "\n",
       "        <iframe\n",
       "            width=\"800\"\n",
       "            height=\"450\"\n",
       "            src=\"./20241227/TOI-3726.20241227.aij.pdf\"\n",
       "            frameborder=\"0\"\n",
       "            allowfullscreen\n",
       "            \n",
       "        ></iframe>\n",
       "        "
      ],
      "text/plain": [
       "<IPython.lib.display.IFrame at 0x7ff62807e4c0>"
      ]
     },
     "execution_count": 8,
     "metadata": {},
     "output_type": "execute_result"
    }
   ],
   "source": [
    "IFrame(\"./20241227/TOI-3726.20241227.aij.pdf\", width=800, height=450)"
   ]
  },
  {
   "cell_type": "code",
   "execution_count": 9,
   "id": "aaacdd17-d5c9-4d87-a2d0-cb0e4611fa27",
   "metadata": {},
   "outputs": [
    {
     "name": "stdout",
     "output_type": "stream",
     "text": [
      "20240926: 57.77 min\n",
      "20241025: 58.01 min\n",
      "20241227: 74.24 min\n"
     ]
    }
   ],
   "source": [
    "for entry in ground_observation:\n",
    "    obs = entry[\"obs\"]\n",
    "    tc = entry[\"Tc\"]\n",
    "    predicted_tc = entry[\"predicted\"][\"offset\"] + entry[\"predicted\"][\"Tc\"]\n",
    "    diff = (tc - predicted_tc) * 24 * 60\n",
    "    print(f\"{obs}: {diff:.2f} min\")"
   ]
  },
  {
   "cell_type": "code",
   "execution_count": 10,
   "id": "7a41dbd8-7c8e-4d02-b79b-0ecf97997220",
   "metadata": {},
   "outputs": [],
   "source": [
    "tc_end = 2460672 + (0.7729 + 0.8819) / 2.0\n",
    "tc_begin_73 =  2457000 +  3290.4324 \n",
    "tc_begin_59 = 2457000 + 2912.8314"
   ]
  },
  {
   "cell_type": "code",
   "execution_count": 11,
   "id": "167e6fff-1b60-46f4-b49a-0243c8d4c23a",
   "metadata": {},
   "outputs": [
    {
     "data": {
      "text/plain": [
       "79.00004958227322"
      ]
     },
     "execution_count": 11,
     "metadata": {},
     "output_type": "execute_result"
    }
   ],
   "source": [
    "(tc_end - tc_begin_73) / s73_period"
   ]
  },
  {
   "cell_type": "code",
   "execution_count": 12,
   "id": "a2cdb3cd-574e-44e4-8edf-53e57a74c450",
   "metadata": {},
   "outputs": [
    {
     "data": {
      "text/plain": [
       "156.96915746357368"
      ]
     },
     "execution_count": 12,
     "metadata": {},
     "output_type": "execute_result"
    }
   ],
   "source": [
    "(tc_end - tc_begin_59) / s59_period"
   ]
  },
  {
   "cell_type": "code",
   "execution_count": 13,
   "id": "fc1054d6-82e4-4db6-8aaf-1c7604cf2955",
   "metadata": {},
   "outputs": [],
   "source": [
    "tc_begin_59 = 2457000 + 2912.8314\n",
    "tc_begin_73 =  2457000 +  3290.4324 \n",
    "tc_20241025 = 2460609.941884418\n",
    "tc_20241227 = 2460672.878957585"
   ]
  },
  {
   "cell_type": "code",
   "execution_count": 54,
   "id": "80a8ee5a-c916-4d43-adb4-b9a81555a7bc",
   "metadata": {
    "scrolled": true
   },
   "outputs": [],
   "source": [
    "# BJD converter: https://ssd.jpl.nasa.gov/tools/jdc/#/jd\n",
    "tc_list = [\n",
    "    {\n",
    "        \"name\": \"tc_sec_59\",\n",
    "        \"tc_val\": 2459912.8314,\n",
    "        \"n\": 0,\n",
    "        \"sidereal_date\": \"2022-11-29 07:57:13\",\n",
    "        \"period\": 4.84169,\n",
    "        \"error\": 0.00044,\n",
    "        \"source\": \"ExoMast sector 59 report.\",\n",
    "    },\n",
    "    {\n",
    "        \"name\": \"tc_sec_73\",\n",
    "        \"tc_val\": 2460290.4324,\n",
    "        \"n\": 78,\n",
    "        \"sidereal_date\": \"2023-12-11 22:22:39\",\n",
    "        \"period\": 4.84044,\n",
    "        \"error\": 0.00041,\n",
    "        \"source\": \"ExoMast sector 73 report\",\n",
    "    },\n",
    "    {\n",
    "        \"name\": \"tc_20240926\",\n",
    "        \"tc_val\": 2460580.899117944,\n",
    "        \"n\": 138,\n",
    "        \"sidereal_date\": \"2024-09-27 09:34:44\",\n",
    "        \"source\": \"AstroImageJ model fit.\",\n",
    "    },\n",
    "    {\n",
    "        \"name\": \"tc_20241025\",\n",
    "        \"tc_val\": 2460609.941884418,\n",
    "        \"n\": 144,\n",
    "        \"sidereal_date\": \"2024-10-26 10:36:19\",\n",
    "        \"source\": \"AstroImageJ model fit.\",\n",
    "    },\n",
    "    {\n",
    "        \"name\": \"tc_20241227\",\n",
    "        \"tc_val\": 2460672.878957585,\n",
    "        \"n\": 157,\n",
    "        \"sidereal_date\": \"2024-12-28 09:05:42\",\n",
    "        \"source\": \"AstroImageJ model fit.\",\n",
    "    },\n",
    "]"
   ]
  },
  {
   "cell_type": "code",
   "execution_count": 41,
   "id": "0721d851-4c90-4a69-9e30-d0dd52603363",
   "metadata": {},
   "outputs": [
    {
     "data": {
      "text/plain": [
       "4.841067245763958"
      ]
     },
     "execution_count": 41,
     "metadata": {},
     "output_type": "execute_result"
    }
   ],
   "source": [
    "# Calculate the best average period using the first sector 59 transit and the last ground observation on 20241227.\n",
    "# The elapsed time spans 2.081 years, which is a good average covering nearly two sinusoidal Romer period.\n",
    "best_period = (tc_list[4][\"tc_val\"] - tc_list[0][\"tc_val\"]) / 157\n",
    "best_period"
   ]
  },
  {
   "cell_type": "code",
   "execution_count": 42,
   "id": "5e493678-43fc-4645-ac68-a914aae7976c",
   "metadata": {},
   "outputs": [
    {
     "data": {
      "text/plain": [
       "4.841313320534447"
      ]
     },
     "execution_count": 42,
     "metadata": {},
     "output_type": "execute_result"
    }
   ],
   "source": [
    "# Calculate the ground observation based period using the 20241025 and 20241227 data.\n",
    "ground_obs_period = (tc_list[4][\"tc_val\"] - tc_list[3][\"tc_val\"]) / 13\n",
    "ground_obs_period"
   ]
  },
  {
   "cell_type": "code",
   "execution_count": 17,
   "id": "3068938e-d706-437f-ac75-5840de82dee7",
   "metadata": {},
   "outputs": [
    {
     "data": {
      "text/plain": [
       "-190610.08203294143"
      ]
     },
     "execution_count": 17,
     "metadata": {},
     "output_type": "execute_result"
    }
   ],
   "source": [
    "(ground_obs_period - best_period) * 24 * 60 * 60"
   ]
  },
  {
   "cell_type": "code",
   "execution_count": 43,
   "id": "0c910b7e-a189-4a43-b306-6d41c4cba313",
   "metadata": {},
   "outputs": [],
   "source": [
    "from datetime import date\n",
    "from math import sin, pi\n",
    "\n",
    "C_IN_KM_PER_SEC = 299792.458\n",
    "EARTH_AVG_OBITAL_RADIUS_KM = 1.496e8\n",
    "EARTH_SIDEREAL_PERIOD = 365.2564\n",
    "DAYS_IN_2024 = 366\n",
    "\n",
    "d_2022_autumn_equinox = date(2022, 9, 22)\n",
    "d_2023_autumn_equinox = date(2023, 9, 23)\n",
    "d_2024_autumn_equinox = date(2024, 9, 22)\n",
    "\n",
    "theta_3726 = (5 * 60 * 60  + 9 * 60 + 11) / (24 * 60 * 60) * 2 * pi # The angle of the TOI-3726's RA=05:09:11\n",
    "\n",
    "d_20240926 = date(2024, 9, 26)\n",
    "d_20241025 = date(2024, 10, 25)\n",
    "d_20241227 = date(2024, 12, 27)\n",
    "\n",
    "def calc_avg_velocity(d1, d2, d_autumn_equnox, offset_angle, days_in_year=EARTH_SIDEREAL_PERIOD, radius=EARTH_AVG_OBITAL_RADIUS_KM):\n",
    "    \"\"\"Calculate the average vertical velocity between d1 and d2 when the Earth is projected to the axis defined by the offset angle.\"\"\"\n",
    "    alpha = (d1 - d_autumn_equnox).days / days_in_year * 2 * pi + offset_angle\n",
    "    beta = (d2 - d_autumn_equnox).days / days_in_year * 2 * pi + offset_angle\n",
    "    days_diff = (d2 - d1).days\n",
    "    vertical_displacement = (sin(beta) - sin(alpha)) * radius\n",
    "    vertical_velocity_km_sec = vertical_displacement / days_diff / 24 / 60 / 60\n",
    "    return vertical_velocity_km_sec\n",
    "\n",
    "def doppler_period(p_original, v=C_IN_KM_PER_SEC, v_source=0, v_observer=0):\n",
    "    \"\"\"Calculate the doppler effect on a original period.\n",
    "    p_original: The original period when the source and the observer are relative stationary.\n",
    "    v: The speed of the wave in the medium (e.g., speed of sound in air or speed of light in vacuum).\n",
    "    v_source: the velocity of the source relative to the medium (positive if moving toward the observer).\n",
    "    v_observer: the velocity of the observer relative to the medium (positive if moving toward the source).   \n",
    "    \"\"\"\n",
    "    return p_original * (v - v_source) / (v + v_observer)\n",
    "    "
   ]
  },
  {
   "cell_type": "code",
   "execution_count": 81,
   "id": "3dfc97dc-ead0-422b-b5aa-e957368c345b",
   "metadata": {},
   "outputs": [
    {
     "name": "stdout",
     "output_type": "stream",
     "text": [
      "4.841067245763958\n",
      "2024-09-26 - 2024-10-25: v_earth: 25.3 km/sec,  \t p_theo_obs: 4.840659002620029\n",
      "2024-10-25 - 2024-12-27: v_earth: 6.73 km/sec,  \t p_theo_obs: 4.840958642089622\n",
      "2022-11-29 - 2022-12-24: v_earth: -0.807 km/sec,  \t p_theo_obs: 4.84108028484455\n",
      "2023-12-11 - 2024-01-04: v_earth: -6.48 km/sec,  \t p_theo_obs: 4.841171810075927\n"
     ]
    }
   ],
   "source": [
    "d_list = [\n",
    "    (d_20240926, d_20241025, d_2024_autumn_equinox),\n",
    "    (d_20241025, d_20241227, d_2024_autumn_equinox),\n",
    "    (date(2022, 11, 29), date(2022, 12, 24), d_2022_autumn_equinox),\n",
    "    (date(2023, 12, 11), date(2024, 1, 4), d_2023_autumn_equinox),\n",
    "]\n",
    "print(best_period)\n",
    "\n",
    "for d1, d2, d_autum_equinox in d_list:\n",
    "    v_observer = calc_avg_velocity(d1, d2, d_2024_autumn_equinox, (0.5 * pi - theta_3726))\n",
    "    p_theo_observer = doppler_period(best_period, v_observer=v_observer)\n",
    "    print(f\"{d1} - {d2}: v_earth: {v_observer:.3} km/sec,  \\t p_theo_obs: {p_theo_observer}\")"
   ]
  },
  {
   "cell_type": "code",
   "execution_count": 20,
   "id": "2a5c483d-f1b1-4da8-8d4e-b776369d8eef",
   "metadata": {},
   "outputs": [
    {
     "data": {
      "text/plain": [
       "157.00218086861008"
      ]
     },
     "execution_count": 20,
     "metadata": {},
     "output_type": "execute_result"
    }
   ],
   "source": [
    "(2460672.878957585 - 2459912.8314) / 4.841"
   ]
  },
  {
   "cell_type": "code",
   "execution_count": 21,
   "id": "fc3a42ea-da4f-43f2-a0f3-e8313d6b8445",
   "metadata": {},
   "outputs": [
    {
     "data": {
      "text/plain": [
       "4.841038461535787"
      ]
     },
     "execution_count": 21,
     "metadata": {},
     "output_type": "execute_result"
    }
   ],
   "source": [
    "(2460290.4324  - 2459912.8314) / 78"
   ]
  },
  {
   "cell_type": "code",
   "execution_count": 22,
   "id": "2f49d323-ad2e-468b-987b-18f36a98161d",
   "metadata": {},
   "outputs": [
    {
     "data": {
      "text/plain": [
       "4.841067245763958"
      ]
     },
     "execution_count": 22,
     "metadata": {},
     "output_type": "execute_result"
    }
   ],
   "source": [
    "4.841067245763958"
   ]
  },
  {
   "cell_type": "markdown",
   "id": "ed2c1b9e-118a-4d47-a9ed-9745d1cf4059",
   "metadata": {},
   "source": [
    "## Explor the Romer Effect and the Doppler Effect\n",
    "### Basic Data\n",
    "\n",
    "| Name         | TC Value           | N   | Sidereal Date        | Period   | Error   | Source                        |\n",
    "|--------------|--------------------|-----|-----------------------|----------|---------|-------------------------------|\n",
    "| tc_sec_59    | 2459912.8314       | 0   | 2022-11-29 07:57:13   | 4.84169  | 0.00044 | ExoMast sector 59 report.     |\n",
    "| tc_sec_73    | 2460290.4324       | 78  | 2023-12-11 22:22:39   | 4.84044  | 0.00041 | ExoMast sector 73 report      |\n",
    "| tc_20241025  | 2460609.941884418  | 144 | 2024-10-26 10:36:19   | -        | -       | AstroImageJ model fit.        |\n",
    "| tc_20241227  | 2460672.878957585  | 157 | 2024-12-28 09:05:42   | -        | -       | AstroImageJ model fit.        |\n",
    "\n",
    "- The sidereal dates were converted using https://ssd.jpl.nasa.gov/tools/jdc/#/jd\n",
    "- The sector 59 and sector 73 TCs and periods were taken from the ExoMast reports.\n",
    "\n",
    "### The Romer Effect and the Doppler Effect\n",
    "- When the Earth revolves around the Sun, it generates a sinusoildal fluctuation on the observed exoplanet transit period which is known as the Romer effect. Fundamentally, it is caused by the Doppler effect.\n",
    "- During the 2024 fall-winter time, the Earth is moving toward TOI-3726 as it revolves around the Sun. This movement creates a small blue-shift due to the Doppler effect.\n",
    "- Such blue-shift causes the observed period to be shorter than the actually host star transit period.\n",
    "- The host star transit period is approximated by the average of the observed period between the first transit observed in sector 59 and the ground observed transit on 20241227 (where the full transit was captured).\n",
    "\n",
    "### Calculation\n",
    "- `p_avg`: the average period\n",
    "  - The t_c of the first transit occurred in sector 59 had a value of `2459912.8314`.\n",
    "  - The t_c of the model fit transit on 20241227 was at `2460672.878957585`.\n",
    "  - These two t_c(s) have 157 periods in between, which covers 2.08 years. This close-to 2-year time span works well in averaging the sinusoidal Romer effect.\n",
    "  - `p_avg = (2460672.878957585 - 2459912.8314) / 157 = 4.841067245763958`\n",
    "- `p_real_obs_20241025_20241227`: the real observed period between 20241025 to 20241227 (13 periods)\n",
    "    - `p_real_obs_20241025_20241227 = (2460672.878957585 - 2460609.941884418) / 13 = 4.841313320534447`\n",
    "- `p_theo_obs_xxx`: the calculated period at different times with the corrections from the Doppler Effect\n",
    "```2024-09-26 - 2024-10-25: vel(km/sec): 2.5e+01, p_theo_obs: 4.840659002620029\n",
    "2024-09-26 - 2024-10-25: v_earth: 25.3 km/sec,  \t p_theo_obs: 4.840659002620029\n",
    "2024-10-25 - 2024-12-27: v_earth: 6.73 km/sec,  \t p_theo_obs: 4.840958642089622\n",
    "2022-11-29 - 2022-12-24: v_earth: -0.807 km/sec,  \t p_theo_obs: 4.84108028484455\n",
    "2023-12-11 - 2024-01-04: v_earth: -6.48 km/sec,  \t p_theo_obs: 4.841171810075927\n",
    "```\n",
    "- Note, each 0.0001 BJE is 8.64 seconds\n",
    "### Analysis\n",
    "- [The observations and the Earth Movement diagram](https://docs.google.com/presentation/d/1rAB1NtzZ529OIQx1gWMENtRKPPdKGVx2gu6bvJ2GN1o/edit#slide=id.p)\n",
    "- By comparing the calculated result, we found that the `p_real_obs_20241025_20241227` is greater than the `p_avg` by 21.26 sec.\n",
    "### Discussion\n",
    "- The above difference is small. Is it significant?\n",
    "- The p_avg is quite accurate, as it is an average of 157 periods.\n",
    "- The AstroImageJ does not provide an error for the calculated values. I wonder how accurate the data is?"
   ]
  },
  {
   "cell_type": "code",
   "execution_count": 96,
   "id": "fcc580d7-ae65-470a-852b-e7d86f537503",
   "metadata": {},
   "outputs": [
    {
     "data": {
      "text/html": [
       "<div>\n",
       "<style scoped>\n",
       "    .dataframe tbody tr th:only-of-type {\n",
       "        vertical-align: middle;\n",
       "    }\n",
       "\n",
       "    .dataframe tbody tr th {\n",
       "        vertical-align: top;\n",
       "    }\n",
       "\n",
       "    .dataframe thead th {\n",
       "        text-align: right;\n",
       "    }\n",
       "</style>\n",
       "<table border=\"1\" class=\"dataframe\">\n",
       "  <thead>\n",
       "    <tr style=\"text-align: right;\">\n",
       "      <th></th>\n",
       "      <th>name</th>\n",
       "      <th>tc_val</th>\n",
       "      <th>n</th>\n",
       "      <th>sidereal_date</th>\n",
       "      <th>period</th>\n",
       "      <th>error</th>\n",
       "      <th>source</th>\n",
       "      <th>pred_59</th>\n",
       "      <th>pred_73</th>\n",
       "      <th>pred_59_diff</th>\n",
       "      <th>pred_73_diff</th>\n",
       "      <th>rel_bjd_59</th>\n",
       "    </tr>\n",
       "  </thead>\n",
       "  <tbody>\n",
       "    <tr>\n",
       "      <th>0</th>\n",
       "      <td>tc_sec_59</td>\n",
       "      <td>2.459913e+06</td>\n",
       "      <td>0</td>\n",
       "      <td>2022-11-29 07:57:13</td>\n",
       "      <td>4.84169</td>\n",
       "      <td>0.00044</td>\n",
       "      <td>ExoMast sector 59 report.</td>\n",
       "      <td>2.459913e+06</td>\n",
       "      <td>2.459913e+06</td>\n",
       "      <td>0.000000</td>\n",
       "      <td>-0.046680</td>\n",
       "      <td>0.000000</td>\n",
       "    </tr>\n",
       "    <tr>\n",
       "      <th>1</th>\n",
       "      <td>tc_sec_73</td>\n",
       "      <td>2.460290e+06</td>\n",
       "      <td>78</td>\n",
       "      <td>2023-12-11 22:22:39</td>\n",
       "      <td>4.84044</td>\n",
       "      <td>0.00041</td>\n",
       "      <td>ExoMast sector 73 report</td>\n",
       "      <td>2.460290e+06</td>\n",
       "      <td>2.460290e+06</td>\n",
       "      <td>-0.050820</td>\n",
       "      <td>0.000000</td>\n",
       "      <td>377.601000</td>\n",
       "    </tr>\n",
       "    <tr>\n",
       "      <th>2</th>\n",
       "      <td>tc_20240926</td>\n",
       "      <td>2.460581e+06</td>\n",
       "      <td>138</td>\n",
       "      <td>2024-09-27 09:34:44</td>\n",
       "      <td>NaN</td>\n",
       "      <td>NaN</td>\n",
       "      <td>AstroImageJ model fit.</td>\n",
       "      <td>2.460581e+06</td>\n",
       "      <td>2.460581e+06</td>\n",
       "      <td>-0.085502</td>\n",
       "      <td>0.040318</td>\n",
       "      <td>668.067718</td>\n",
       "    </tr>\n",
       "    <tr>\n",
       "      <th>3</th>\n",
       "      <td>tc_20241025</td>\n",
       "      <td>2.460610e+06</td>\n",
       "      <td>144</td>\n",
       "      <td>2024-10-26 10:36:19</td>\n",
       "      <td>NaN</td>\n",
       "      <td>NaN</td>\n",
       "      <td>AstroImageJ model fit.</td>\n",
       "      <td>2.460610e+06</td>\n",
       "      <td>2.460610e+06</td>\n",
       "      <td>-0.092876</td>\n",
       "      <td>0.040444</td>\n",
       "      <td>697.110484</td>\n",
       "    </tr>\n",
       "    <tr>\n",
       "      <th>4</th>\n",
       "      <td>tc_20241227</td>\n",
       "      <td>2.460673e+06</td>\n",
       "      <td>157</td>\n",
       "      <td>2024-12-28 09:05:42</td>\n",
       "      <td>NaN</td>\n",
       "      <td>NaN</td>\n",
       "      <td>AstroImageJ model fit.</td>\n",
       "      <td>2.460673e+06</td>\n",
       "      <td>2.460673e+06</td>\n",
       "      <td>-0.097772</td>\n",
       "      <td>0.051798</td>\n",
       "      <td>760.047558</td>\n",
       "    </tr>\n",
       "  </tbody>\n",
       "</table>\n",
       "</div>"
      ],
      "text/plain": [
       "          name        tc_val    n        sidereal_date   period    error  \\\n",
       "0    tc_sec_59  2.459913e+06    0  2022-11-29 07:57:13  4.84169  0.00044   \n",
       "1    tc_sec_73  2.460290e+06   78  2023-12-11 22:22:39  4.84044  0.00041   \n",
       "2  tc_20240926  2.460581e+06  138  2024-09-27 09:34:44      NaN      NaN   \n",
       "3  tc_20241025  2.460610e+06  144  2024-10-26 10:36:19      NaN      NaN   \n",
       "4  tc_20241227  2.460673e+06  157  2024-12-28 09:05:42      NaN      NaN   \n",
       "\n",
       "                      source       pred_59       pred_73  pred_59_diff  \\\n",
       "0  ExoMast sector 59 report.  2.459913e+06  2.459913e+06      0.000000   \n",
       "1   ExoMast sector 73 report  2.460290e+06  2.460290e+06     -0.050820   \n",
       "2     AstroImageJ model fit.  2.460581e+06  2.460581e+06     -0.085502   \n",
       "3     AstroImageJ model fit.  2.460610e+06  2.460610e+06     -0.092876   \n",
       "4     AstroImageJ model fit.  2.460673e+06  2.460673e+06     -0.097772   \n",
       "\n",
       "   pred_73_diff  rel_bjd_59  \n",
       "0     -0.046680    0.000000  \n",
       "1      0.000000  377.601000  \n",
       "2      0.040318  668.067718  \n",
       "3      0.040444  697.110484  \n",
       "4      0.051798  760.047558  "
      ]
     },
     "execution_count": 96,
     "metadata": {},
     "output_type": "execute_result"
    }
   ],
   "source": [
    "import pandas as pd\n",
    "import matplotlib.pyplot as plt\n",
    "from sklearn.linear_model import LinearRegression\n",
    "tc_df = pd.DataFrame(tc_list)\n",
    "tc_df['pred_59'] = (tc_df['n'] - tc_df['n'].iloc[0])* tc_df['period'].iloc[0] + tc_df['tc_val'].iloc[0]\n",
    "tc_df['pred_73'] = (tc_df['n'] - tc_df['n'].iloc[1])* tc_df['period'].iloc[1] + tc_df['tc_val'].iloc[1]\n",
    "tc_df['pred_59_diff'] = tc_df['tc_val'] - tc_df['pred_59']\n",
    "tc_df['pred_73_diff'] = tc_df['tc_val'] - tc_df['pred_73']\n",
    "tc_df['rel_bjd_59'] = tc_df['tc_val'] - tc_df['tc_val'].iloc[0]\n",
    "\n",
    "tc_df"
   ]
  },
  {
   "cell_type": "code",
   "execution_count": 97,
   "id": "e64b286e-a9b1-4902-827c-78fff04ae107",
   "metadata": {},
   "outputs": [],
   "source": [
    "import matplotlib.pyplot as plt\n",
    "import numpy as np\n",
    "\n",
    "def extend(X, Y, x_min, x_max):\n",
    "    slope = (Y[1] - Y[0]) / (X[1] - X[0])  # (y2 - y1) / (x2 - x1)\n",
    "    intercept = Y[0] - slope * X[0]  # y = mx + b -> b = y1 - m*x1\n",
    "    \n",
    "    # Extend the x range beyond the endpoints\n",
    "    x_extended = np.linspace(x_min, x_max, 2)  # Extend range by 2 units on both sides\n",
    "    y_extended = slope * x_extended + intercept  # Calculate y values for the extended range\n",
    "\n",
    "    return x_extended, y_extended\n"
   ]
  },
  {
   "cell_type": "code",
   "execution_count": 99,
   "id": "8ac5c5cf-42dc-476f-93f5-179a1408f2c5",
   "metadata": {},
   "outputs": [
    {
     "name": "stdout",
     "output_type": "stream",
     "text": [
      "Slope (m): 4.841059536739922\n",
      "Intercept (b): 2459912.8307693945\n",
      "r^2: 0.9999999999712603\n",
      "Fitted DataFrame:\n",
      "          name        tc_val    n        sidereal_date   period    error  \\\n",
      "0    tc_sec_59  2.459913e+06    0  2022-11-29 07:57:13  4.84169  0.00044   \n",
      "1    tc_sec_73  2.460290e+06   78  2023-12-11 22:22:39  4.84044  0.00041   \n",
      "2  tc_20240926  2.460581e+06  138  2024-09-27 09:34:44      NaN      NaN   \n",
      "3  tc_20241025  2.460610e+06  144  2024-10-26 10:36:19      NaN      NaN   \n",
      "4  tc_20241227  2.460673e+06  157  2024-12-28 09:05:42      NaN      NaN   \n",
      "\n",
      "                      source       pred_59       pred_73  pred_59_diff  \\\n",
      "0  ExoMast sector 59 report.  2.459913e+06  2.459913e+06      0.000000   \n",
      "1   ExoMast sector 73 report  2.460290e+06  2.460290e+06     -0.050820   \n",
      "2     AstroImageJ model fit.  2.460581e+06  2.460581e+06     -0.085502   \n",
      "3     AstroImageJ model fit.  2.460610e+06  2.460610e+06     -0.092876   \n",
      "4     AstroImageJ model fit.  2.460673e+06  2.460673e+06     -0.097772   \n",
      "\n",
      "   pred_73_diff  rel_bjd_59        y_pred      diff  \n",
      "0     -0.046680    0.000000  2.459913e+06  0.000631  \n",
      "1      0.000000  377.601000  2.460290e+06 -0.001013  \n",
      "2      0.040318  668.067718  2.460581e+06  0.002132  \n",
      "3      0.040444  697.110484  2.460610e+06 -0.001458  \n",
      "4      0.051798  760.047558  2.460673e+06  0.001841  \n"
     ]
    },
    {
     "data": {
      "text/plain": [
       "Text(0, 0.5, 'Tc_obs - Tc_pred (min)')"
      ]
     },
     "execution_count": 99,
     "metadata": {},
     "output_type": "execute_result"
    },
    {
     "data": {
      "image/png": "[encoded data removed]",
      "text/plain": [
       "<Figure size 640x480 with 1 Axes>"
      ]
     },
     "metadata": {},
     "output_type": "display_data"
    }
   ],
   "source": [
    "from sklearn.metrics import r2_score\n",
    "\n",
    "# Fit using sec_59, sec_73, 20241025, 20241227 data\n",
    "X = tc_df[['n']].iloc[[i for i in range(len(tc_df)) if i not in[2]]]  # Independent variable (must be 2D for scikit-learn)\n",
    "y = tc_df['tc_val'].iloc[[i for i in range(len(tc_df)) if i not in[2]]]    # Dependent variable\n",
    "\n",
    "# Fit using sec_59, sec_73, 20241227 data\n",
    "#X = tc_df[['n']].iloc[[i for i in range(len(tc_df)) if i not in[2, 3]]]  # Independent variable (must be 2D for scikit-learn)\n",
    "#y = tc_df['tc_val'].iloc[[i for i in range(len(tc_df)) if i not in[2, 3]]]    # Dependent variable\n",
    "\n",
    "# Fit using sec_59, sec_73 data\n",
    "#X = tc_df[['n']].iloc[:2]  # Independent variable (must be 2D for scikit-learn)\n",
    "#y = tc_df['tc_val'].iloc[:2]    # Dependent variable\n",
    "\n",
    "# Fit using sec_59, 20241227 data\n",
    "#X = tc_df[['n']].iloc[0::4]  # Independent variable (must be 2D for scikit-learn)\n",
    "#y = tc_df['tc_val'].iloc[0::4]    # Dependent variable\n",
    "\n",
    "model = LinearRegression()\n",
    "model.fit(X, y)\n",
    "# Coefficients and intercept\n",
    "slope = model.coef_[0]  # The slope (m)\n",
    "intercept = model.intercept_  # The intercept (b)\n",
    "\n",
    "fitted_slope = slope\n",
    "\n",
    "# Predict using the fitted model\n",
    "tc_df['y_pred'] = model.predict(tc_df[['n']])\n",
    "\n",
    "\n",
    "# The diff between the actual and the model\n",
    "tc_df['diff'] = tc_df['tc_val'] - tc_df['y_pred']\n",
    "\n",
    "# Output results\n",
    "print(f\"Slope (m): {slope}\")\n",
    "print(f\"Intercept (b): {intercept}\")\n",
    "print(\"r^2:\", r2_score(tc_df['tc_val'], tc_df['y_pred']))\n",
    "\n",
    "print(\"Fitted DataFrame:\")\n",
    "print(tc_df)\n",
    "\n",
    "plt.plot(tc_df['n'], tc_df['diff'] * 24 * 60, marker='o', linestyle='-', color='b', label='Line with circles')\n",
    "plt.xlabel('Period Num')  # Optional: Label for the x-axis\n",
    "plt.ylabel(f\"Tc_obs - Tc_pred (min)\")  # Optional: Label for the y-axis"
   ]
  },
  {
   "cell_type": "code",
   "execution_count": 100,
   "id": "ce2546fd-07fd-4e4b-9533-71c9ed12c808",
   "metadata": {},
   "outputs": [
    {
     "data": {
      "text/html": [
       "<div>\n",
       "<style scoped>\n",
       "    .dataframe tbody tr th:only-of-type {\n",
       "        vertical-align: middle;\n",
       "    }\n",
       "\n",
       "    .dataframe tbody tr th {\n",
       "        vertical-align: top;\n",
       "    }\n",
       "\n",
       "    .dataframe thead th {\n",
       "        text-align: right;\n",
       "    }\n",
       "</style>\n",
       "<table border=\"1\" class=\"dataframe\">\n",
       "  <thead>\n",
       "    <tr style=\"text-align: right;\">\n",
       "      <th></th>\n",
       "      <th>name</th>\n",
       "      <th>tc_val</th>\n",
       "      <th>n</th>\n",
       "      <th>sidereal_date</th>\n",
       "      <th>period</th>\n",
       "      <th>error</th>\n",
       "      <th>source</th>\n",
       "      <th>pred_59</th>\n",
       "      <th>pred_73</th>\n",
       "      <th>pred_59_diff</th>\n",
       "      <th>pred_73_diff</th>\n",
       "      <th>rel_bjd_59</th>\n",
       "      <th>y_pred</th>\n",
       "      <th>diff</th>\n",
       "      <th>pred_fitted</th>\n",
       "      <th>pred_fitted_diff</th>\n",
       "    </tr>\n",
       "  </thead>\n",
       "  <tbody>\n",
       "    <tr>\n",
       "      <th>0</th>\n",
       "      <td>tc_sec_59</td>\n",
       "      <td>2.459913e+06</td>\n",
       "      <td>0</td>\n",
       "      <td>2022-11-29 07:57:13</td>\n",
       "      <td>4.84169</td>\n",
       "      <td>0.00044</td>\n",
       "      <td>ExoMast sector 59 report.</td>\n",
       "      <td>2.459913e+06</td>\n",
       "      <td>2.459913e+06</td>\n",
       "      <td>0.000000</td>\n",
       "      <td>-0.046680</td>\n",
       "      <td>0.000000</td>\n",
       "      <td>2.459913e+06</td>\n",
       "      <td>0.000631</td>\n",
       "      <td>2.459913e+06</td>\n",
       "      <td>0.000000</td>\n",
       "    </tr>\n",
       "    <tr>\n",
       "      <th>1</th>\n",
       "      <td>tc_sec_73</td>\n",
       "      <td>2.460290e+06</td>\n",
       "      <td>78</td>\n",
       "      <td>2023-12-11 22:22:39</td>\n",
       "      <td>4.84044</td>\n",
       "      <td>0.00041</td>\n",
       "      <td>ExoMast sector 73 report</td>\n",
       "      <td>2.460290e+06</td>\n",
       "      <td>2.460290e+06</td>\n",
       "      <td>-0.050820</td>\n",
       "      <td>0.000000</td>\n",
       "      <td>377.601000</td>\n",
       "      <td>2.460290e+06</td>\n",
       "      <td>-0.001013</td>\n",
       "      <td>2.460290e+06</td>\n",
       "      <td>-0.001644</td>\n",
       "    </tr>\n",
       "    <tr>\n",
       "      <th>2</th>\n",
       "      <td>tc_20240926</td>\n",
       "      <td>2.460581e+06</td>\n",
       "      <td>138</td>\n",
       "      <td>2024-09-27 09:34:44</td>\n",
       "      <td>NaN</td>\n",
       "      <td>NaN</td>\n",
       "      <td>AstroImageJ model fit.</td>\n",
       "      <td>2.460581e+06</td>\n",
       "      <td>2.460581e+06</td>\n",
       "      <td>-0.085502</td>\n",
       "      <td>0.040318</td>\n",
       "      <td>668.067718</td>\n",
       "      <td>2.460581e+06</td>\n",
       "      <td>0.002132</td>\n",
       "      <td>2.460581e+06</td>\n",
       "      <td>0.001502</td>\n",
       "    </tr>\n",
       "    <tr>\n",
       "      <th>3</th>\n",
       "      <td>tc_20241025</td>\n",
       "      <td>2.460610e+06</td>\n",
       "      <td>144</td>\n",
       "      <td>2024-10-26 10:36:19</td>\n",
       "      <td>NaN</td>\n",
       "      <td>NaN</td>\n",
       "      <td>AstroImageJ model fit.</td>\n",
       "      <td>2.460610e+06</td>\n",
       "      <td>2.460610e+06</td>\n",
       "      <td>-0.092876</td>\n",
       "      <td>0.040444</td>\n",
       "      <td>697.110484</td>\n",
       "      <td>2.460610e+06</td>\n",
       "      <td>-0.001458</td>\n",
       "      <td>2.460610e+06</td>\n",
       "      <td>-0.002089</td>\n",
       "    </tr>\n",
       "    <tr>\n",
       "      <th>4</th>\n",
       "      <td>tc_20241227</td>\n",
       "      <td>2.460673e+06</td>\n",
       "      <td>157</td>\n",
       "      <td>2024-12-28 09:05:42</td>\n",
       "      <td>NaN</td>\n",
       "      <td>NaN</td>\n",
       "      <td>AstroImageJ model fit.</td>\n",
       "      <td>2.460673e+06</td>\n",
       "      <td>2.460673e+06</td>\n",
       "      <td>-0.097772</td>\n",
       "      <td>0.051798</td>\n",
       "      <td>760.047558</td>\n",
       "      <td>2.460673e+06</td>\n",
       "      <td>0.001841</td>\n",
       "      <td>2.460673e+06</td>\n",
       "      <td>0.001210</td>\n",
       "    </tr>\n",
       "  </tbody>\n",
       "</table>\n",
       "</div>"
      ],
      "text/plain": [
       "          name        tc_val    n        sidereal_date   period    error  \\\n",
       "0    tc_sec_59  2.459913e+06    0  2022-11-29 07:57:13  4.84169  0.00044   \n",
       "1    tc_sec_73  2.460290e+06   78  2023-12-11 22:22:39  4.84044  0.00041   \n",
       "2  tc_20240926  2.460581e+06  138  2024-09-27 09:34:44      NaN      NaN   \n",
       "3  tc_20241025  2.460610e+06  144  2024-10-26 10:36:19      NaN      NaN   \n",
       "4  tc_20241227  2.460673e+06  157  2024-12-28 09:05:42      NaN      NaN   \n",
       "\n",
       "                      source       pred_59       pred_73  pred_59_diff  \\\n",
       "0  ExoMast sector 59 report.  2.459913e+06  2.459913e+06      0.000000   \n",
       "1   ExoMast sector 73 report  2.460290e+06  2.460290e+06     -0.050820   \n",
       "2     AstroImageJ model fit.  2.460581e+06  2.460581e+06     -0.085502   \n",
       "3     AstroImageJ model fit.  2.460610e+06  2.460610e+06     -0.092876   \n",
       "4     AstroImageJ model fit.  2.460673e+06  2.460673e+06     -0.097772   \n",
       "\n",
       "   pred_73_diff  rel_bjd_59        y_pred      diff   pred_fitted  \\\n",
       "0     -0.046680    0.000000  2.459913e+06  0.000631  2.459913e+06   \n",
       "1      0.000000  377.601000  2.460290e+06 -0.001013  2.460290e+06   \n",
       "2      0.040318  668.067718  2.460581e+06  0.002132  2.460581e+06   \n",
       "3      0.040444  697.110484  2.460610e+06 -0.001458  2.460610e+06   \n",
       "4      0.051798  760.047558  2.460673e+06  0.001841  2.460673e+06   \n",
       "\n",
       "   pred_fitted_diff  \n",
       "0          0.000000  \n",
       "1         -0.001644  \n",
       "2          0.001502  \n",
       "3         -0.002089  \n",
       "4          0.001210  "
      ]
     },
     "execution_count": 100,
     "metadata": {},
     "output_type": "execute_result"
    }
   ],
   "source": [
    "tc_df['pred_fitted'] = (tc_df['n'] - tc_df['n'].iloc[0])* fitted_slope + tc_df['tc_val'].iloc[0]\n",
    "tc_df['pred_fitted_diff'] = tc_df['tc_val'] - tc_df['pred_fitted']\n",
    "tc_df"
   ]
  },
  {
   "cell_type": "markdown",
   "id": "ae55e371-9be7-42ba-a706-61c2dacb306d",
   "metadata": {},
   "source": [
    "## The Accuracy of the Calculated Periods of Sector 59 and 73\n",
    "- When we plot the predicated Tc of the sector 59 and 73 against the observed Tc, we notice a linear trend in each case. The trends indicate that the sector 59 prediction overestimates the real period, while the sector 73 underestimates the real period. Note that the Tc shifts we see in our AIJ analysis are caused the result of the sector 73 prediction, which is also what the Swarthmore Transit Finder uses.\n",
    "\n",
    "- It's not surprising the results of both TESS sectors are not accurate. The TESS sector predictions have been based on a short observation of less than six successive periods. When the observation range is extended to two years, a small inaccuracy in the period can be accumulated to a significant shift.\n",
    "\n",
    "## A More Accurate Estimated Period - P_accurate\n",
    "- Given our current longer horizon observation data, we can estimate this by fitting a linear model.\n",
    "- When choosing what data to include in the fitting, we should exlcude the incomplete 20240926 transit observation.\n",
    "- With Sector 59, 73, 20241025, and 20241227 data, the fitted result is as below:\n",
    "    ```\n",
    "        Slope (m): 4.841059536739922\n",
    "        Intercept (b): 2459912.8307693945\n",
    "        r^2: 0.9999999999712603\n",
    "    ```\n",
    "- Because this fitted time range covers very close to 2 whole years (2.08 years), this period is an average period over the sinugolidal Romer effect due to the period fluctuation caused by the Earth revolving aroud the Sun.\n",
    "\n",
    "## Sinusoidal Romer Effect Analysis\n",
    "- With the above `P_accurate`, we can apply it to the Sinusoidal Romer Effect analysis describe in the previous section. This `P_accurate` is slightly different from the estimated period using only the sector 59 and 20241227 data, but it would arrive to the same colusion as before."
   ]
  },
  {
   "cell_type": "code",
   "execution_count": 101,
   "id": "0f705fe4-8fa9-4038-adef-666b4aa73ef1",
   "metadata": {},
   "outputs": [
    {
     "data": {
      "text/plain": [
       "Text(0.5, 1.0, 'Linear Drift of Observed Tc vs Prediction Caused by\\nthe Over/underestimated Sector 59 and 73 Periods')"
      ]
     },
     "execution_count": 101,
     "metadata": {},
     "output_type": "execute_result"
    },
    {
     "data": {
      "image/png": "[encoded data removed]",
      "text/plain": [
       "<Figure size 640x480 with 1 Axes>"
      ]
     },
     "metadata": {},
     "output_type": "display_data"
    }
   ],
   "source": [
    "scalar_uint = \"hour\"\n",
    "scalar = 24\n",
    "plt.scatter(tc_df['rel_bjd_59'], tc_df['pred_59_diff'] * scalar, marker='o',s=10, label=\"Tc shift using Sector 59 Period\")\n",
    "plt.scatter(tc_df['rel_bjd_59'], tc_df['pred_73_diff'] * scalar, marker='o',s=10, label=\"Tc shift using Sector 73 Period (Swarthmore Transit Finder)\")\n",
    "plt.scatter(tc_df['rel_bjd_59'], tc_df['pred_fitted_diff'] * scalar, marker='o',s=10, label=\"Tc shift using the Fitted Period\")\n",
    "\n",
    "model_59 = LinearRegression()\n",
    "model_59.fit(tc_df[['rel_bjd_59']], tc_df['pred_59_diff'])\n",
    "y_pred_59 = model_59.predict(tc_df[['rel_bjd_59']])\n",
    "plt.plot(tc_df['rel_bjd_59'], y_pred_59 * scalar)\n",
    "\n",
    "model_73 = LinearRegression()\n",
    "model_73.fit(tc_df[['rel_bjd_59']], tc_df['pred_73_diff'])\n",
    "y_pred_73 = model_73.predict(tc_df[['rel_bjd_59']])\n",
    "plt.plot(tc_df['rel_bjd_59'], y_pred_73 * scalar)\n",
    "\n",
    "model_fitted = LinearRegression()\n",
    "model_fitted.fit(tc_df[['rel_bjd_59']], tc_df['pred_fitted_diff'])\n",
    "y_pred_fitted = model_fitted.predict(tc_df[['rel_bjd_59']])\n",
    "plt.plot(tc_df['rel_bjd_59'], y_pred_fitted * scalar)\n",
    "\n",
    "plt.grid()\n",
    "plt.legend(loc='upper left')\n",
    "plt.ylabel(f\"Tc_obs - Tc_pred ({scalar_uint})\")\n",
    "plt.xlabel(\"BJD_obs - BJD_sec_59\")\n",
    "plt.tight_layout()\n",
    "plt.title(\"Linear Drift of Observed Tc vs Prediction Caused by\\nthe Over/underestimated Sector 59 and 73 Periods\")\n"
   ]
  }
 ],
 "metadata": {
  "kernelspec": {
   "display_name": "Python 3 (ipykernel)",
   "language": "python",
   "name": "python3"
  },
  "language_info": {
   "codemirror_mode": {
    "name": "ipython",
    "version": 3
   },
   "file_extension": ".py",
   "mimetype": "text/x-python",
   "name": "python",
   "nbconvert_exporter": "python",
   "pygments_lexer": "ipython3",
   "version": "3.9.0"
  }
 },
 "nbformat": 4,
 "nbformat_minor": 5
}
