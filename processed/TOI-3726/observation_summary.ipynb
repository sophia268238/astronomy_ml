{
 "cells": [
  {
   "cell_type": "markdown",
   "id": "13e1e3b2-5b5d-4456-ad07-3b6e3fa19aa8",
   "metadata": {},
   "source": [
    "## Light Curves and Fits"
   ]
  },
  {
   "cell_type": "code",
   "execution_count": 22,
   "id": "492db474-5e58-4e55-912c-01a606fb4c7b",
   "metadata": {},
   "outputs": [
    {
     "data": {
      "text/html": [
       "\n",
       "        <iframe\n",
       "            width=\"800\"\n",
       "            height=\"450\"\n",
       "            src=\"./20240926/TOI-3726.20240926.projected_egress.pdf\"\n",
       "            frameborder=\"0\"\n",
       "            allowfullscreen\n",
       "            \n",
       "        ></iframe>\n",
       "        "
      ],
      "text/plain": [
       "<IPython.lib.display.IFrame at 0x105cf8400>"
      ]
     },
     "execution_count": 22,
     "metadata": {},
     "output_type": "execute_result"
    }
   ],
   "source": [
    "from IPython.display import IFrame\n",
    "\n",
    "# Replace 'your_file.pdf' with the path to your PDF file\n",
    "IFrame(\"./20240926/TOI-3726.20240926.projected_egress.pdf\", width=800, height=450)"
   ]
  },
  {
   "cell_type": "code",
   "execution_count": 23,
   "id": "63a9cb1b-96c8-4b4f-a36c-2e46acbb734b",
   "metadata": {},
   "outputs": [
    {
     "data": {
      "text/html": [
       "\n",
       "        <iframe\n",
       "            width=\"800\"\n",
       "            height=\"450\"\n",
       "            src=\"./20241025/TOI-3726.20241025.aij.pdf\"\n",
       "            frameborder=\"0\"\n",
       "            allowfullscreen\n",
       "            \n",
       "        ></iframe>\n",
       "        "
      ],
      "text/plain": [
       "<IPython.lib.display.IFrame at 0x105cf8550>"
      ]
     },
     "execution_count": 23,
     "metadata": {},
     "output_type": "execute_result"
    }
   ],
   "source": [
    "IFrame(\"./20241025/TOI-3726.20241025.aij.pdf\", width=800, height=450)"
   ]
  },
  {
   "cell_type": "markdown",
   "id": "58d838bc-e9f2-4f14-8a6c-4461abd7af8e",
   "metadata": {},
   "source": [
    "## Analysis"
   ]
  },
  {
   "cell_type": "markdown",
   "id": "581562df-1540-4a25-bbf3-e63e71c78fcc",
   "metadata": {},
   "source": [
    "## [Transit Timing Variation (TTV)](https://en.wikipedia.org/wiki/Transit-timing_variation)"
   ]
  },
  {
   "cell_type": "markdown",
   "id": "c8d36d7b-0469-42bb-8613-cd54d9f2e70e",
   "metadata": {},
   "source": [
    "### Period Analysis"
   ]
  },
  {
   "cell_type": "markdown",
   "id": "169fa30b-ee44-4a80-9c50-8d79fc4c1511",
   "metadata": {},
   "source": [
    "1. Period Based on the Observations on 09/26/2024 and 10/25/2024\n",
    "The below calculation indicates the period of the transits remains as reported by ExoMast."
   ]
  },
  {
   "cell_type": "code",
   "execution_count": 3,
   "id": "1ca4243a-5722-4fce-b712-a6ecc4dba304",
   "metadata": {},
   "outputs": [
    {
     "name": "stdout",
     "output_type": "stream",
     "text": [
      "The number of periods between the two transit center is: 6.000022286014968\n"
     ]
    }
   ],
   "source": [
    "# Tc(transit center timing)\n",
    "Tc_20241025 = 2460609.941884418\n",
    "Tc_20240926 = 2460580.899117944\n",
    "period_exo_mast = 4.8404431 \n",
    "\n",
    "periods = (Tc_20241025 - Tc_20240926) / period_exo_mast\n",
    "print(f\"The number of periods between the two transit centers is: {periods}\")"
   ]
  },
  {
   "cell_type": "markdown",
   "id": "a75fda5d-962a-45f3-ac08-323d6158eef5",
   "metadata": {},
   "source": [
    "2. The Amount of T_c (Transit Center) Shift Compared with Swathmore Report"
   ]
  },
  {
   "cell_type": "code",
   "execution_count": 12,
   "id": "db0be6af-51a1-46b9-a311-6b7652e1ddec",
   "metadata": {},
   "outputs": [
    {
     "name": "stdout",
     "output_type": "stream",
     "text": [
      "09-26-2024 shift: 0.040117944000000016\n",
      "10-25-2024 shift: 0.040284418000000044\n"
     ]
    }
   ],
   "source": [
    "# For 09/26/2024\n",
    "shift_09262024 = 0.899117944 - 0.8590\n",
    "print(f\"09-26-2024 shift: {shift_09262024}\")\n",
    "\n",
    "# For 10/25/2024\n",
    "shift_10252024 = 0.941884418 - 0.9016\n",
    "print(f\"10-25-2024 shift: {shift_10252024}\")"
   ]
  },
  {
   "cell_type": "markdown",
   "id": "f9d4a8e9-fdeb-4530-b8e5-06717893985f",
   "metadata": {},
   "source": [
    "3. Compare TESS Sector 59 and 73 Light Curves\n",
    "- For TOI-3726, TESS collected 2 sectors of data: 59 and 73. Somehow, there are two sets of data for sector 59.\n",
    "- With the base BJD of 2457000, sector 59 is between (2910 - 2937 BJD) and sector 73 is between (3285 - 3313 BJD)\n",
    "- The current ExoMast report was based on the data of sector 73(see the[downloaded report](./tess2023341070027-s0073-s0073-0000000122695048-00835_dvm.pdf)), even though the data of sector 59 is in no less quality.\n",
    "- The flux of both sectors are individually flattened and folded with the reported transit period (4.8404431 BJD). It seems to indicate the transit center has shifted to a later time in sector 73 compared with sector 59. The amount of shift is close to the amount between the current ground follow-up observations and the sector 73. See the below comparison.\n",
    "- However, I don't know how to fit the light curves and the shift is a rough estimate.\n",
    "![screenshot](./TOI-3726_sector_59_73_compare.png)."
   ]
  },
  {
   "cell_type": "markdown",
   "id": "ad64a91e-6875-4cce-b49f-ea0bf10e9fb1",
   "metadata": {},
   "source": [
    "### Query TOIs in TESS sector 59 and 73: [ExoFOP-TESS](https://exofop.ipac.caltech.edu/tess/view_toi.php)"
   ]
  }
 ],
 "metadata": {
  "kernelspec": {
   "display_name": "Python 3 (ipykernel)",
   "language": "python",
   "name": "python3"
  },
  "language_info": {
   "codemirror_mode": {
    "name": "ipython",
    "version": 3
   },
   "file_extension": ".py",
   "mimetype": "text/x-python",
   "name": "python",
   "nbconvert_exporter": "python",
   "pygments_lexer": "ipython3",
   "version": "3.9.6"
  }
 },
 "nbformat": 4,
 "nbformat_minor": 5
}
