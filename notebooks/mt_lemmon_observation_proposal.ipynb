{
 "cells": [
  {
   "cell_type": "markdown",
   "id": "3c8011f2-4742-4c19-a574-8c88c449d794",
   "metadata": {},
   "source": [
    "# Mt. Lemmon Observation Candidates"
   ]
  },
  {
   "cell_type": "markdown",
   "id": "99e9b287-b864-4058-bfcd-10856b44f9c0",
   "metadata": {},
   "source": [
    "|Index|TIC|TOI|ExoFop|Window Begin|90 Day Event|Tess Mag|Period(days)|Depth|Note|\n",
    "|--|--|--|--|--|--|--|--|--|--|\n",
    "|1|TIC 373816781|TOI 5871|[Link](https://exofop.ipac.caltech.edu/tess/target.php?id=373816781)|08/17/2024|[Link](https://astro.swarthmore.edu/transits/print_transits.cgi?observatory_string=32.416667%3B-110.731667%3BAmerica%2FPhoenix%3BMount%20Lemmon&use_utc=0&single_object=2&observatory_latitude=32.416667&observatory_longitude=-110.731667&timezone=America/Phoenix&days_to_print=90&days_in_past=0&target_string=TIC%20373816781.01&minimum_start_elevation=30&and_vs_or=and&minimum_end_elevation=30&minimum_ha=-12&maximum_ha=12&baseline_hrs=1.0&show_unc=&minimum_priority=0&minimum_depth=6&print_html=1&twilight=-12)|12.8|1.34|26.07|Faint-star QLP search.<br>Good ExoMast vetting.<br>Quite a few good observation nights.|\n",
    "|2|TIC 320281287|TOI 3998|[Link](https://exofop.ipac.caltech.edu/tess/target.php?id=320281287)|08/17/20204|[Link](https://astro.swarthmore.edu/transits/print_transits.cgi?observatory_string=32.416667%3B-110.731667%3BAmerica%2FPhoenix%3BMount%20Lemmon&use_utc=0&single_object=2&observatory_latitude=32.416667&observatory_longitude=-110.731667&timezone=America/Phoenix&days_to_print=90&days_in_past=0&target_string=TIC%20320281287.01&minimum_start_elevation=30&and_vs_or=and&minimum_end_elevation=30&minimum_ha=-12&maximum_ha=12&baseline_hrs=1.0&show_unc=&minimum_priority=0&minimum_depth=6&print_html=1&twilight=-12)|12.1|1.81|12.86|Faint-star QLP search; multiple stars in pixel.<br><span style=\"color: red;\">One red flag in ExoMast vetting report: Offsets Relative to Out of Transit Centroid</span>|\n",
    "|3|TIC 122695048|TOI 3726|[Link](https://exofop.ipac.caltech.edu/tess/target.php?id=122695048)|08/17/2024|[Link](https://astro.swarthmore.edu/transits/print_transits.cgi?observatory_string=32.416667%3B-110.731667%3BAmerica%2FPhoenix%3BMount%20Lemmon&use_utc=0&single_object=2&observatory_latitude=32.416667&observatory_longitude=-110.731667&timezone=America/Phoenix&days_to_print=90&days_in_past=0&target_string=TIC%20122695048.01&minimum_start_elevation=30&and_vs_or=and&minimum_end_elevation=30&minimum_ha=-12&maximum_ha=12&baseline_hrs=2.4&show_unc=1&minimum_priority=0&minimum_depth=6&print_html=1&twilight=-12)|13.1|4.84|26.37|Faint-star QLP search.<br><span style=\"color: green;\">Good ExoMast vetting report.</span><br>First peek on 08/28/2024, but potentially incomplete ingress/egress.<br>Only <b>one good</b> observation night  10/30/2024 with 1% moon!<br>⭐️⭐️⭐️<span style=\"color: green;\">No uploaded observation in ExoFop yet! We can be the first!</span>|\n",
    "|4|TIC 193482096|TOI 3564|[Link](https://exofop.ipac.caltech.edu/tess/target.php?id=193482096)|08/17/2024|[Link](https://astro.swarthmore.edu/transits/print_transits.cgi?observatory_string=32.416667%3B-110.731667%3BAmerica%2FPhoenix%3BMount%20Lemmon&use_utc=0&single_object=2&observatory_latitude=32.416667&observatory_longitude=-110.731667&timezone=America/Phoenix&days_to_print=90&days_in_past=0&target_string=TIC%20193482096.01&minimum_start_elevation=30&and_vs_or=and&minimum_end_elevation=30&minimum_ha=-12&maximum_ha=12&baseline_hrs=1.4&show_unc=&minimum_priority=0&minimum_depth=6&print_html=1&twilight=-12)|12.3|4.09|15.66|Faint-star QLP search; possibly too large for insolation.<br>Only one chance to observe on 08/28/2024 within the 90 day window.|\n",
    "|5|TIC 452743735|TOI 6180|[Link](https://exofop.ipac.caltech.edu/tess/target.php?id=452743735)|08/17/2024|[Link](https://astro.swarthmore.edu/transits/print_transits.cgi?observatory_string=32.416667%3B-110.731667%3BAmerica%2FPhoenix%3BMount%20Lemmon&use_utc=0&single_object=2&observatory_latitude=32.416667&observatory_longitude=-110.731667&timezone=America/Phoenix&days_to_print=90&days_in_past=0&target_string=TIC%20452743735.01&minimum_start_elevation=30&and_vs_or=and&minimum_end_elevation=30&minimum_ha=-12&maximum_ha=12&baseline_hrs=2.1&show_unc=1&minimum_priority=0&minimum_depth=6&print_html=1&twilight=-12)|13.1|2.74|25.32|Faint-star QLP search.<br><span style=\"color: red;\">No simbad data.</span><br><span style=\"color: red;\">No ExoMast vetting.</span><br>Some good ExoFop follow up light curves.<br> A few good observation nights within 90 days.|"
   ]
  },
  {
   "cell_type": "markdown",
   "id": "c805622b-a04d-4cb1-b24e-5ffcdecb11e4",
   "metadata": {},
   "source": [
    "- No. 1 has a short period. It's relatively bright and has a good depth. It's well studied and most likely to have some good observation result. However, as it's well studied, our work may not contribute much more.\n",
    "- No. 2 is also bright, has a short period, but the ExoMast vetting has a red flag. Our observation may provide additional facts about the star.\n",
    "- No. 3 is not as bright, but these does not seem to be follow up observations uploads at all in ExoMast. We have an opportunity to be the first to submit the data! Due to its long period, we have only one good observation window (10/30/2024 with 1% moon!) in the next 90 days though.\n",
    "- No. 4 has a longer overall tansit time, which makes it difficult to capture the ingress and egress. And we also only have one observation window in the next 90 days.\n",
    "- No. 5 is a bit strange, as it has no simbad data. There are some follow up observations. We may add more data to it."
   ]
  }
 ],
 "metadata": {
  "kernelspec": {
   "display_name": "Python 3 (ipykernel)",
   "language": "python",
   "name": "python3"
  },
  "language_info": {
   "codemirror_mode": {
    "name": "ipython",
    "version": 3
   },
   "file_extension": ".py",
   "mimetype": "text/x-python",
   "name": "python",
   "nbconvert_exporter": "python",
   "pygments_lexer": "ipython3",
   "version": "3.12.3"
  }
 },
 "nbformat": 4,
 "nbformat_minor": 5
}
