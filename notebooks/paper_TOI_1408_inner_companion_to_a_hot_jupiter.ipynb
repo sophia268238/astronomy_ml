{
 "cells": [
  {
   "cell_type": "markdown",
   "id": "0226681e-145a-44a5-86ac-6d05b05497dd",
   "metadata": {},
   "source": [
    "# Paper Reading\n",
    "- Popular Press: https://www.space.com/nasa-tess-super-earth-hot-jupiter-wobbly\n",
    "- Research article: [TOI-1408: Discovery and Photodynamical Modeling of a Small Inner Companion to a Hot Jupiter\n",
    "Revealed by TTVs](https://arxiv.org/pdf/2407.17798) 06/26/2024"
   ]
  },
  {
   "cell_type": "markdown",
   "id": "318d8eae-74cc-4e5d-8030-30249a442dee",
   "metadata": {},
   "source": [
    "## Terms\n",
    "- TTV: transit timing variation\n",
    "- TDV: transit duration variation\n",
    "- RV: radial velocity\n",
    "- Eccentricity:  $ \\sqrt{1 - \\frac{b^2}{a^2}} $ where a, b are the semi-major/minor axis\n",
    "- Sloan Digital Sky Survey (SDSS) Filters(ugriz):\n",
    "    - u: ultraviolate ~300-400nm\n",
    "    - g: green ~400-550nm\n",
    "    - r: red ~550-700nm\n",
    "    - i: infrared ~700-850\n",
    "    - z: infrared ~850-950\n",
    "- Photodynamic Model: a comprehensive approach that cobines phothmetric data (light curves) and dynamical information (orbital mechanics) to study and characterize exoplanets.\n",
    "- RV Semi-amplitude: The half of the total range of the radial velocity variation. For instance, if the RV of a star values from -10 km/s to +10 km/s, the semi-amplitude would be 10 km/s.\n",
    "- $\\lambda$ and R in RV analysis:\n",
    "    - $\\lambda$: the wavelength of light being observed. In the context of radial velocity studies, it typically refers to the specific wavelengths at which spectral lines are observed.\n",
    "    - R: The spectral resolution (R) is a dimensionless number that describes the resolving power of a spectrograph. $$R = \\frac{\\lambda}{\\Delta \\lambda}$$\n",
    "- Proper motion ($\\mu$)\n",
    "    - The proper motions in Right Ascension (RA) and Declination (Dec) represent the star's motion across the sky, projected onto these two celestial coordinate axes.\n",
    "    - It gives insight into a star's velocity relative to the Sun and can help in understanding the star's orbit within the galaxy.\n",
    "    - High proper motion stars are generally closer to us, as distant stars move very slowly across the sky due to their great distance.\n",
    "    - Unit: milliarcseconds per year (mas/yr)\n",
    "- Grazing Planet\n",
    "  - A grazing planet refers to a planet that passes very close to its host star during a transit, but does not completely cover it.\n",
    "- V mag: visual magnitude ~550nm (green)\n",
    "- J mag: near infra-red manitude ~1250nm"
   ]
  },
  {
   "cell_type": "markdown",
   "id": "5f444dd7-35c2-4881-a9ea-d2626abae5a1",
   "metadata": {},
   "source": [
    "## Questions\n",
    "- In section 2.1.2. ground-based photometry, all the ground based observations were based on the `i` band. Why using the `i` band?\n",
    "- Didn't find PyTTV (Korth et al. 2023) the python tool used in TTV analysis."
   ]
  }
 ],
 "metadata": {
  "kernelspec": {
   "display_name": "Python 3 (ipykernel)",
   "language": "python",
   "name": "python3"
  },
  "language_info": {
   "codemirror_mode": {
    "name": "ipython",
    "version": 3
   },
   "file_extension": ".py",
   "mimetype": "text/x-python",
   "name": "python",
   "nbconvert_exporter": "python",
   "pygments_lexer": "ipython3",
   "version": "3.9.6"
  }
 },
 "nbformat": 4,
 "nbformat_minor": 5
}
