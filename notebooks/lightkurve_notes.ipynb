{
 "cells": [
  {
   "cell_type": "markdown",
   "metadata": {},
   "source": [
    "## TPF\n",
    "- Target Pixcel File\n",
    "    - FITS format: Flexible Image Transport System\n",
    "        - HDUs (header/data units)\n",
    "            - Primary HDU followed by extensions\n",
    "            - HDU\n",
    "                - Header: `KEYNAME = value / comment string`\n",
    "                - Data: Image pixels\n",
    "\n",
    "        "
   ]
  },
  {
   "cell_type": "markdown",
   "metadata": {
    "vscode": {
     "languageId": "plaintext"
    }
   },
   "source": [
    "## Kepler, K2, TESS\n",
    "- Kepler recorded the brightness measurements at two different cadences: a Short Cadence (SC, 58.85 seconds) and a Long Cadence (LC, 29.4 minutes).\n",
    "    - Kepler data are marked with quarters 1 - 4. This is because the telescope orientation needed to be reoriented every 3 months.\n",
    "- K2 data are very similar to Kepler data, but are subject to higher levels of instrument noise due to the increased instability of the spacecraft.\n",
    "- TESS covers a much larger area of the sky at a lower resolution. Compared to Kepler, TESS observes in several different cadence modes, including 20 seconds, 120 seconds, 10 minutes, and 30 minutes.\n",
    "- Survey specific partition\n",
    "    - Kepler quarter\n",
    "    - K2 campaign\n",
    "    - TESS sector\n",
    "        - 4 cameras\n",
    "        - Each camera has 4 CCDs\n",
    "        - Each CCDs has 2048 x 2048 pixels (roughly 4M pixels)"
   ]
  },
  {
   "cell_type": "markdown",
   "metadata": {},
   "source": [
    "## Terms\n",
    "- BKJD: Barycentric Kepler Julian Date\n",
    "- WCS: [World Coordinate System](https://fits.gsfc.nasa.gov/fits_wcs.html)\n",
    "- CCD: Charge-Coupled Device\n",
    "- Cadence: The interval durign which the CCD is actively exposed to light.\n",
    "- FFI: TESS full frame image\n",
    "- SAP: Simple aperture photometry\n",
    "- PDCSAP: Pre-search Data Conditioning SAP\n",
    "- FITS: Flexible Image Transport System\n",
    "- PDC: Presearch Data Conditioning. PDC is responsible for preparing the raw photometric data (light curves) obtained from the Kepler spacecraft for further analysis by mitigating various systematic errors and noise sources.\n",
    "    - Data Calibration\n",
    "    - Systematic Error Correction\n",
    "    - Outlier Removal\n",
    "    - Discontinuity Correction\n",
    "    - ...\n",
    "- PDCMETHD: The light curve FITS header which PDC method was chosen\n",
    "- MAST: Mikulski Archive for Space Telescopes. This is the archive that lightkurve searches. It inclues TESS, Kepler data for example.\n",
    "- TOI: TESS object of interest\n",
    "- TCE: Threshold crossing event\n",
    "- ExoFOP: Exoplanet Follow-up Observing Program. Primarily used by researchers involved in the follow-up of exoplanet candidates to validate and characterize these planets.\n",
    "- ExoMAST: Database for confirmed exoplanets.\n",
    "- Contamination Ratio: The ratio of flux from nearby stars to the flux from the target star within the photometric aperture used by TESS. 0 means no contamination, 1 complete contamination.\n",
    "- The Morgan-Keenan star classification system: OBAFGKM, Oh, Be a Fine Gal/Guy, Kiss Me.\n",
    "- LBV: luminous blue variables (e.g, S Doradus) These star are not in the MK sequence.\n",
    "- SSO: solar system objects. Lisk asteroids, comets, moons that cause big spike and dips in star light curves.\n",
    "- The star radius cut-off of detecting transit exo-planet: 2~3 solar radii due to SNR.\n",
    "    "
   ]
  },
  {
   "cell_type": "markdown",
   "metadata": {
    "jp-MarkdownHeadingCollapsed": true
   },
   "source": [
    "## [tessLATTE](https://github.com/noraeisner/LATTE/tree/master?tab=readme-ov-file)\n",
    "- May need to instal openssl@1.1 first before installing Python 3.7.8\n",
    "    - `brew install openssl@1.1`\n",
    "    - `brew reinstall openssl@1.1`\n",
    "- Works with Python 3.7.8. Does not work with 3.7.2.\n",
    "    - `sudo installer -pkg /path_to/python-3.7.8-macosx10.9.pkg -target /`\n",
    "- PDM Setup\n",
    "    - `pdm add tessLATTE`\n",
    "    - `pdm add certify`\n",
    "    - `pdm add scikit-learn`\n",
    "    - `export SKLEARN_ALLOW_DEPRECATED_SKLEARN_PACKAGE_INSTALL=True`\n",
    "    - `export PATH=\"/opt/homebrew/opt/openssl@1.1/bin:$PATH\"`\n",
    "- Manual refresh leap seconds file:\n",
    "```\n",
    "from astropy.utils import iers\n",
    "from astropy.utils.data import clear_download_cache\n",
    "\n",
    "# Clear the download cache\n",
    "clear_download_cache()\n",
    "\n",
    "# Update the IERS table\n",
    "iers.IERS_Auto.open()\n",
    "```\n",
    "- Follow the [README](https://github.com/noraeisner/LATTE/tree/master?tab=readme-ov-file) to fix the SSL problem.)\n",
    "- After running `python -m LATTE`, the window may show up in a separate workspace other than the launching terminal, so flip around and see where it is. Or find the corresponding python launcher icon in the app tray."
   ]
  },
  {
   "cell_type": "markdown",
   "metadata": {
    "jp-MarkdownHeadingCollapsed": true
   },
   "source": [
    "## lightkurve Essential API\n",
    "- `import lightkurve as lk`\n",
    "### TPF\n",
    "- `search_result = lk.search_targetpixelfile(\"Kepler-8\", author=\"Kepler\", cadence=\"long\")`\n",
    "- `tpf = search_result[4].download()`\n",
    "- `tpf.plot()`\n",
    "- `tpf.filename`\n",
    "- `tpf.get_header(ext=0)`\n",
    "- `tpf.show_properties()`\n",
    "- `tpf.wcs.pixel_to_world(0, 0)`\n",
    "- `tpf.time`\n",
    "- `tpf.flux`, `tpf.flux_err`, `tpf.flux_bkg`, `tpf.flux_bkg_err`\n",
    "- Alternatively, `tpf.hdu[1].data['FLUX'].shape`\n",
    "- `lc = tpf.to_lightcurve(aperture_mask=some_mask)`\n",
    "- `bkg = tpf.get_bkg_lightcurve()`\n",
    "### Cadence\n",
    "- `first_cadence = tpf[0]`\n",
    "- `first_cadence.plot(column='flux')`\n",
    "- `first_cadence.pipeline_mask`\n",
    "- `first_cadence.plot(aperture_mask=first_cadence.pipeline_mask)`\n",
    "### Light Curve\n",
    "- `search_result = lk.search_lightcurve(\"Kepler-8\", author=\"Kepler\", cadence=\"long\")`\n",
    "- `lc = search_result[4].download()`\n",
    "- `lc.plot()`\n",
    "- `lc.filename`\n",
    "- `lc.meta`\n",
    "- `lc.meta[\"QUARTER\"]` or `lc.quarter`\n",
    "- `clean_lc = lc.remove_outliers(sigma=6)`\n",
    "### Debug\n",
    "- `tpf.interact(notebook_url='localhost:8893')`\n",
    "- `tpf.interact_sky(notebook_url='localhost:8893')`\n",
    "- `# Only show the first 1000 cadences to makes the tool faster`\n",
    "- `tpf[0:1000].interact()`\n",
    "- `# Override the maximum cadence limit`\n",
    "- `tpf.interact(max_cadences=300000)`\n",
    "### Aperture\n",
    "- `am = tpf_crowded.create_threshold_mask(threshold=1)`\n",
    "- `am.sum()` - counting the number of pixels in the mask.\n",
    "- Aperture is a 2-D array. The direction of the image y-axis is reverse in the array wrt the image."
   ]
  },
  {
   "cell_type": "markdown",
   "metadata": {},
   "source": [
    "## Cotrending Basis Vectors (CBVs)\n",
    "- Types\n",
    "    - Single-scale\n",
    "    - Multi-scale\n",
    "    - Spike\n",
    "- Kepler/K2 only has Single-scale.\n",
    "- TESS has all three."
   ]
  },
  {
   "cell_type": "markdown",
   "metadata": {},
   "source": [
    "## Surveys\n",
    "#### TESS\n",
    "- Discovery exoplanet transits.\n",
    "- As of 6 July 2024, TESS had identified 7,203 candidate exoplanets, of which 482 had been confirmed.\n",
    "- As of July 2024, TESS is undergoing it's 2nd extended mission following the primary and the first extended mission. The 2nd mission ends in 2025.\n",
    "#### Gaia\n",
    "- Create 3D map of the Milky Way"
   ]
  },
  {
   "cell_type": "markdown",
   "metadata": {},
   "source": [
    "## Fix SSLCertverificationError while loading CBVCorrector\n",
    "```\n",
    "import ssl\n",
    "\n",
    "try:\n",
    "    _create_unverified_https_context = ssl._create_unverified_context\n",
    "except AttributeError:\n",
    "    # Legacy Python that doesn't verify HTTPS certificates by default\n",
    "    pass\n",
    "else:\n",
    "    # Handle target environment that doesn't support HTTPS verification\n",
    "    ssl._create_default_https_context = _create_unverified_https_context\n",
    "```"
   ]
  }
 ],
 "metadata": {
  "kernelspec": {
   "display_name": "Python 3 (ipykernel)",
   "language": "python",
   "name": "python3"
  },
  "language_info": {
   "codemirror_mode": {
    "name": "ipython",
    "version": 3
   },
   "file_extension": ".py",
   "mimetype": "text/x-python",
   "name": "python",
   "nbconvert_exporter": "python",
   "pygments_lexer": "ipython3",
   "version": "3.12.3"
  }
 },
 "nbformat": 4,
 "nbformat_minor": 4
}
